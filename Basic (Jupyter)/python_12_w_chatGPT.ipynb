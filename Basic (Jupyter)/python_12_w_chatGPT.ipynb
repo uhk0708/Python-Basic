{
  "nbformat": 4,
  "nbformat_minor": 0,
  "metadata": {
    "colab": {
      "provenance": []
    },
    "kernelspec": {
      "name": "python3",
      "display_name": "Python 3"
    },
    "language_info": {
      "name": "python"
    }
  },
  "cells": [
    {
      "cell_type": "markdown",
      "source": [
        "조건문"
      ],
      "metadata": {
        "id": "Ruom8i80rahe"
      }
    },
    {
      "cell_type": "code",
      "execution_count": 1,
      "metadata": {
        "colab": {
          "base_uri": "https://localhost:8080/",
          "height": 35
        },
        "id": "Hgo_NCHwrPD6",
        "outputId": "3789739f-d125-44ca-d3c0-201cd04f32f2"
      },
      "outputs": [
        {
          "output_type": "execute_result",
          "data": {
            "text/plain": [
              "'\\nif 조건: \\n    # 조건이 Ture일 때 실행할 코드 \\n'"
            ],
            "application/vnd.google.colaboratory.intrinsic+json": {
              "type": "string"
            }
          },
          "metadata": {},
          "execution_count": 1
        }
      ],
      "source": [
        "# if 문\n",
        "\n",
        "'''\n",
        "if 조건:\n",
        "    # 조건이 Ture일 때 실행할 코드\n",
        "'''"
      ]
    },
    {
      "cell_type": "code",
      "source": [
        "age = 21\n",
        "\n",
        "if age > 19 :\n",
        "    print(\"성인입니다\")"
      ],
      "metadata": {
        "colab": {
          "base_uri": "https://localhost:8080/"
        },
        "id": "RU3m3k16rk89",
        "outputId": "d26848ad-b85f-4b8d-c2b8-2fbb089635e4"
      },
      "execution_count": 2,
      "outputs": [
        {
          "output_type": "stream",
          "name": "stdout",
          "text": [
            "성인입니다\n"
          ]
        }
      ]
    },
    {
      "cell_type": "code",
      "source": [
        "# elif\n",
        "\n",
        "'''\n",
        "elif 문은 else if 줄임말\n",
        "여러 개 조건 중 하나가 True 인 경우 해당 코드를 블록 실행함\n",
        "if 나 elif 중 하나만 실행\n",
        "\n",
        "if 조건 1:\n",
        "    # 조건1이 True일 때 실행할 코드\n",
        "\n",
        "elif 조건 2:\n",
        "    # 조건1이 참이 아님(False)이고, 조건 2가 True 일 때 실행할 코드\n",
        "'''\n"
      ],
      "metadata": {
        "colab": {
          "base_uri": "https://localhost:8080/",
          "height": 71
        },
        "id": "AOykKbVkroyz",
        "outputId": "07c6adc7-c13b-4ebf-a156-c9205b2d8620"
      },
      "execution_count": 3,
      "outputs": [
        {
          "output_type": "execute_result",
          "data": {
            "text/plain": [
              "'\\nelif 문은 else if 줄임말 \\n여러 개 조건 중 하나가 True 인 경우 해당 코드를 블록 실행함 \\nif 나 elif 중 하나만 실행 \\n\\nif 조건 1: \\n    # 조건1이 True일 때 실행할 코드 \\n\\nelif 조건 2: \\n    # 조건1이 참이 아님(False)이고, 조건 2가 True 일 때 실행할 코드\\n'"
            ],
            "application/vnd.google.colaboratory.intrinsic+json": {
              "type": "string"
            }
          },
          "metadata": {},
          "execution_count": 3
        }
      ]
    },
    {
      "cell_type": "code",
      "source": [
        "score = 85\n",
        "\n",
        "if score >= 90:\n",
        "    print(\"A 등급\")\n",
        "elif score >= 80:\n",
        "    print(\"B 등급\")\n",
        "else:\n",
        "    print(\"등급 줄 수 없음(미달)\")"
      ],
      "metadata": {
        "colab": {
          "base_uri": "https://localhost:8080/"
        },
        "id": "iZukEUonr_1A",
        "outputId": "fcc7b73e-a3f4-44ae-f156-3a619b1f8579"
      },
      "execution_count": 4,
      "outputs": [
        {
          "output_type": "stream",
          "name": "stdout",
          "text": [
            "B 등급\n"
          ]
        }
      ]
    },
    {
      "cell_type": "code",
      "source": [
        "# else 문\n",
        "\n",
        "'''\n",
        "else 문은 이전의 모든 조건이 False 일 때 실행됨\n",
        "if나 elif 중 어느 것도 실행되지 않을 때 사용\n",
        "\n",
        "if 조건:\n",
        "    # 조건이 True일 때 실행되는 코드\n",
        "else:\n",
        "    # 위의 모든 조건이 False일 때 실행하는 코드\n",
        "'''"
      ],
      "metadata": {
        "colab": {
          "base_uri": "https://localhost:8080/",
          "height": 53
        },
        "id": "AuRnw9AZsPrS",
        "outputId": "8b1ff6ae-c52e-419b-9341-ed1ce1286389"
      },
      "execution_count": 5,
      "outputs": [
        {
          "output_type": "execute_result",
          "data": {
            "text/plain": [
              "'\\nelse 문은 이전의 모든 조건이 False 일 때 실행됨 \\nif나 elif 중 어느 것도 실행되지 않을 때 사용 \\n\\nif 조건: \\n    # 조건이 True일 때 실행되는 코드 \\nelse: \\n    # 위의 모든 조건이 False일 때 실행하는 코드 \\n'"
            ],
            "application/vnd.google.colaboratory.intrinsic+json": {
              "type": "string"
            }
          },
          "metadata": {},
          "execution_count": 5
        }
      ]
    },
    {
      "cell_type": "code",
      "source": [
        "age = 15\n",
        "\n",
        "if age >= 19:\n",
        "    print(\"성인입니다\")\n",
        "else:\n",
        "    print(\"미성년자예요\")"
      ],
      "metadata": {
        "colab": {
          "base_uri": "https://localhost:8080/"
        },
        "id": "FRl8HrpfsmWJ",
        "outputId": "e917cb38-cfe9-4add-c1d9-070c7add3937"
      },
      "execution_count": 6,
      "outputs": [
        {
          "output_type": "stream",
          "name": "stdout",
          "text": [
            "미성년자예요\n"
          ]
        }
      ]
    },
    {
      "cell_type": "markdown",
      "source": [
        "반복문"
      ],
      "metadata": {
        "id": "A2lJ3YRixsdz"
      }
    },
    {
      "cell_type": "code",
      "source": [
        "# for 반복문\n",
        "'''\n",
        "for 반복문은 주로 시퀀스(리스트, 튜플, 문자열) 항목들을 순회하거나,\n",
        "특정 횟수 동안 반복 작업 수행할 때 사용됨\n",
        "\n",
        "for 변수 in 리스트(튜플, 문자열):\n",
        "    수행할 문장1\n",
        "    수행할 문장2\n",
        "'''"
      ],
      "metadata": {
        "colab": {
          "base_uri": "https://localhost:8080/",
          "height": 53
        },
        "id": "RbX8HFgjs_wI",
        "outputId": "97151ed8-54c7-411c-eda9-ecd998417db7"
      },
      "execution_count": 7,
      "outputs": [
        {
          "output_type": "execute_result",
          "data": {
            "text/plain": [
              "'\\nfor 반복문은 주로 시퀀스(리스트, 튜플, 문자열) 항목들을 순회하거나, \\n특정 횟수 동안 반복 작업 수행할 때 사용됨 \\n\\nfor 변수 in 리스트(튜플, 문자열): \\n    수행할 문장1\\n    수행할 문장2\\n'"
            ],
            "application/vnd.google.colaboratory.intrinsic+json": {
              "type": "string"
            }
          },
          "metadata": {},
          "execution_count": 7
        }
      ]
    },
    {
      "cell_type": "code",
      "source": [
        "과일 = [\"사과\",\"배\",\"감\",\"귤\"]\n",
        "\n",
        "for i in 과일:\n",
        "    print(i)"
      ],
      "metadata": {
        "colab": {
          "base_uri": "https://localhost:8080/"
        },
        "id": "jv4doqsx0Tt8",
        "outputId": "ed03550a-4c92-4159-aae7-1b30d096557a"
      },
      "execution_count": 8,
      "outputs": [
        {
          "output_type": "stream",
          "name": "stdout",
          "text": [
            "사과\n",
            "배\n",
            "감\n",
            "귤\n"
          ]
        }
      ]
    },
    {
      "cell_type": "code",
      "source": [
        "# 리스트의 각 요소 출력하기\n",
        "fruits = [\"사과\", \"바나나\", \"오렌지\"]\n",
        "for fruit in fruits:\n",
        "    print(fruit)\n",
        "# 출력:\n",
        "# 사과\n",
        "# 바나나\n",
        "# 오렌지\n",
        "\n",
        "print('-' * 20)\n",
        "# 문자열의 각 문자 출력하기\n",
        "message = \"안녕하세요!\"\n",
        "for char in message:\n",
        "    print(char)\n",
        "# 출력:\n",
        "# 안\n",
        "# 녕\n",
        "# 하\n",
        "# 세\n",
        "# 요\n",
        "# !\n"
      ],
      "metadata": {
        "colab": {
          "base_uri": "https://localhost:8080/"
        },
        "id": "Q8uVODlT0f4G",
        "outputId": "fcda4dd2-95b8-4792-b53f-3e0c30e687a0"
      },
      "execution_count": 10,
      "outputs": [
        {
          "output_type": "stream",
          "name": "stdout",
          "text": [
            "사과\n",
            "바나나\n",
            "오렌지\n",
            "--------------------\n",
            "안\n",
            "녕\n",
            "하\n",
            "세\n",
            "요\n",
            "!\n"
          ]
        }
      ]
    },
    {
      "cell_type": "markdown",
      "source": [
        "while 반복문"
      ],
      "metadata": {
        "id": "Y4i7_Y2_0dim"
      }
    },
    {
      "cell_type": "code",
      "source": [
        "# while loop\n",
        "\n",
        "'''\n",
        "while 반복문은 주어진 조건이 True인 경우 코드 블록을 계속 실행함\n",
        "조건이 False 가 되면 반복이 종료됨\n",
        "\n",
        "while 조건문:\n",
        "    수행할 문장1\n",
        "    수행할 문장2\n",
        "    수행할 문장3\n",
        "\n",
        "'''"
      ],
      "metadata": {
        "colab": {
          "base_uri": "https://localhost:8080/",
          "height": 53
        },
        "id": "r_SLDmT-0cI3",
        "outputId": "2beddd33-eb0f-471d-d54d-bfc19eb0a7ed"
      },
      "execution_count": 11,
      "outputs": [
        {
          "output_type": "execute_result",
          "data": {
            "text/plain": [
              "'\\nwhile 반복문은 주어진 조건이 True인 경우 코드 블록을 계속 실행함 \\n조건이 False 가 되면 반복이 종료됨 \\n\\nwhile 조건문: \\n    수행할 문장1\\n    수행할 문장2\\n    수행할 문장3\\n\\n'"
            ],
            "application/vnd.google.colaboratory.intrinsic+json": {
              "type": "string"
            }
          },
          "metadata": {},
          "execution_count": 11
        }
      ]
    },
    {
      "cell_type": "code",
      "source": [
        "count = 1\n",
        "\n",
        "while count < 6: # 정지 조건\n",
        "    print(count)\n",
        "    count += 1"
      ],
      "metadata": {
        "colab": {
          "base_uri": "https://localhost:8080/"
        },
        "id": "gEObqSEr08KN",
        "outputId": "f62b3429-b5c6-43cd-837d-db98c77af4e8"
      },
      "execution_count": 13,
      "outputs": [
        {
          "output_type": "stream",
          "name": "stdout",
          "text": [
            "1\n",
            "2\n",
            "3\n",
            "4\n",
            "5\n"
          ]
        }
      ]
    },
    {
      "cell_type": "code",
      "source": [
        "# 1에서 5까지의 숫자 출력하기\n",
        "num = 1\n",
        "while num <= 5:\n",
        "    print(num)\n",
        "    num += 1\n",
        "# 출력:\n",
        "# 1\n",
        "# 2\n",
        "# 3\n",
        "# 4\n",
        "# 5"
      ],
      "metadata": {
        "colab": {
          "base_uri": "https://localhost:8080/"
        },
        "id": "ukEEJPG81UDF",
        "outputId": "6fd18fc7-2ff7-4e11-c797-a893a8d23a76"
      },
      "execution_count": 16,
      "outputs": [
        {
          "output_type": "stream",
          "name": "stdout",
          "text": [
            "1\n",
            "2\n",
            "3\n",
            "4\n",
            "5\n"
          ]
        }
      ]
    },
    {
      "cell_type": "code",
      "source": [
        "# 사용자로부터 입력 받아 처리하기\n",
        "total = 0\n",
        "\n",
        "while True:\n",
        "    num = int(input(\"숫자를 입력하세요 (0을 입력하면 종료): \"))\n",
        "    if num == 0:\n",
        "        break  # 0이 입력되면 반복문 종료\n",
        "    total += num\n",
        "\n",
        "\n",
        "print(\"총합:\", total)\n"
      ],
      "metadata": {
        "colab": {
          "base_uri": "https://localhost:8080/"
        },
        "id": "HVf3Ir2O1r56",
        "outputId": "98c6a8e6-eff2-4ed0-ff0d-e3694f7ee15e"
      },
      "execution_count": 17,
      "outputs": [
        {
          "output_type": "stream",
          "name": "stdout",
          "text": [
            "숫자를 입력하세요 (0을 입력하면 종료): 5\n",
            "숫자를 입력하세요 (0을 입력하면 종료): 6\n",
            "숫자를 입력하세요 (0을 입력하면 종료): 0\n",
            "총합: 11\n"
          ]
        }
      ]
    },
    {
      "cell_type": "markdown",
      "source": [
        "반복문 + 조건문"
      ],
      "metadata": {
        "id": "xQxQpsep1RoA"
      }
    },
    {
      "cell_type": "code",
      "source": [
        "# 1 부터 100까지 숫자 중에서 3의 배수인 숫자를 출력해 보기\n",
        "\n",
        "number = 1\n",
        "\n",
        "while number <= 100: # 정지조건\n",
        "    if number % 3 == 0:\n",
        "        print(number)\n",
        "    number += 1\n",
        ""
      ],
      "metadata": {
        "colab": {
          "base_uri": "https://localhost:8080/"
        },
        "id": "sKyBm4qB1Iht",
        "outputId": "48627249-ae8e-4d64-f92e-4086ab7629be"
      },
      "execution_count": 18,
      "outputs": [
        {
          "output_type": "stream",
          "name": "stdout",
          "text": [
            "3\n",
            "6\n",
            "9\n",
            "12\n",
            "15\n",
            "18\n",
            "21\n",
            "24\n",
            "27\n",
            "30\n",
            "33\n",
            "36\n",
            "39\n",
            "42\n",
            "45\n",
            "48\n",
            "51\n",
            "54\n",
            "57\n",
            "60\n",
            "63\n",
            "66\n",
            "69\n",
            "72\n",
            "75\n",
            "78\n",
            "81\n",
            "84\n",
            "87\n",
            "90\n",
            "93\n",
            "96\n",
            "99\n"
          ]
        }
      ]
    },
    {
      "cell_type": "markdown",
      "source": [
        "### 커피 자판기 만들기"
      ],
      "metadata": {
        "id": "_ZcMlMvL2OKd"
      }
    },
    {
      "cell_type": "code",
      "source": [
        "choice = input(\"커피 자판기를 사용하시겟습니까? (yes/no로 답해주세요)\\n\")\n",
        "# \\n : new line 한 줄 띄어서 출력해 달라는 의미\n",
        "\n",
        "if choice == 'yes':\n",
        "    while True:\n",
        "        money = int(input(\"돈을 넣어주세요 - 숫자로 입력 예: 1000, 10000 \\n\"))\n",
        "        number = int(input(\"숫자를 선택해 주세요. 1번 아이스 아메리카노 2번 라떼 3번 콜드브루\\n\"))\n",
        "\n",
        "        if number == 1:\n",
        "            print(\"아이스아메리카노를 선택하셨네요. 거스름돈은 \", money-1000, \"원 입니다\")\n",
        "            break\n",
        "\n",
        "        elif number == 2:\n",
        "            print(\"라떼를 선택하셨네요. 거스름돈은 \", money-1500, \"원 입니다\")\n",
        "            break\n",
        "\n",
        "        elif number == 3:\n",
        "            print(\"콜드브루를 선택하셨네요. 거스름돈은 \", money-1500, \"원 입니다\")\n",
        "            break\n",
        "\n",
        "        else:\n",
        "            print(\"없는 메뉴입니다.\")\n",
        "            break"
      ],
      "metadata": {
        "colab": {
          "base_uri": "https://localhost:8080/"
        },
        "id": "K0xHHewS2GBo",
        "outputId": "b1e262a8-80be-4881-c649-a51e781c1fd3"
      },
      "execution_count": 22,
      "outputs": [
        {
          "output_type": "stream",
          "name": "stdout",
          "text": [
            "커피 자판기를 사용하시겟습니까? (yes/no로 답해주세요)\n",
            "yes\n",
            "돈을 넣어주세요 - 숫자로 입력 예: 1000, 10000 \n",
            "12000\n",
            "숫자를 선택해 주세요. 1번 아이스 아메리카노 2번 라떼 3번 콜드브루\n",
            "2\n",
            "라떼를 선택하셨네요. 거스름돈은  10500 원 입니다\n"
          ]
        }
      ]
    },
    {
      "cell_type": "code",
      "source": [
        "# 커피 가격 설정\n",
        "coffee_menu = {\n",
        "    \"에스프레소\": 3000,\n",
        "    \"아메리카노\": 3500,\n",
        "    \"카페라떼\": 4000,\n",
        "    \"카푸치노\": 4500\n",
        "}\n",
        "\n",
        "# 주문 내역을 저장할 빈 리스트 생성\n",
        "orders = []\n",
        "\n",
        "# 주문 프로세스 시작\n",
        "print(\"커피 자판기를 시작합니다. 주문을 완료하려면 '종료'를 입력하세요.\")\n",
        "\n",
        "while True:\n",
        "    # 커피 종류 및 수량 입력 받기\n",
        "    coffee_name = input(\"주문할 커피 종류를 입력하세요: \")\n",
        "    if coffee_name == \"종료\":\n",
        "        break  # 종료 입력 시 루프 종료\n",
        "    quantity = int(input(\"주문 수량을 입력하세요: \"))\n",
        "\n",
        "    # 주문한 커피가 메뉴에 있는지 확인하고, 주문 내역에 추가하기\n",
        "    if coffee_name in coffee_menu:\n",
        "        order_price = coffee_menu[coffee_name] * quantity\n",
        "        orders.append((coffee_name, quantity, order_price))\n",
        "        print(f\"{coffee_name} {quantity}잔이 주문되었습니다.\")\n",
        "    else:\n",
        "        print(\"커피 메뉴에 없는 항목입니다. 다시 주문해주세요.\")\n",
        "\n",
        "# 주문 내역 출력\n",
        "print(\"\\n주문 내역:\")\n",
        "\n",
        "total_price = 0\n",
        "for order in orders:\n",
        "    coffee_name, quantity, order_price = order\n",
        "    print(f\"{coffee_name}: {quantity}잔, 가격: {order_price}원\")\n",
        "    total_price += order_price  # total_price = total_price + order_price\n",
        "\n",
        "print(f\"\\n총 주문 금액: {total_price}원\")\n",
        "print(\"이용해 주셔서 감사합니다. 안녕히 가십시오!\")\n"
      ],
      "metadata": {
        "colab": {
          "base_uri": "https://localhost:8080/"
        },
        "id": "AuNR86HC31YH",
        "outputId": "22b28838-3846-4e12-c976-33b0eaef58bd"
      },
      "execution_count": 25,
      "outputs": [
        {
          "output_type": "stream",
          "name": "stdout",
          "text": [
            "커피 자판기를 시작합니다. 주문을 완료하려면 '종료'를 입력하세요.\n",
            "주문할 커피 종류를 입력하세요: 카페라떼\n",
            "주문 수량을 입력하세요: 5\n",
            "카페라떼 5잔이 주문되었습니다.\n",
            "주문할 커피 종류를 입력하세요: 종료\n",
            "\n",
            "주문 내역:\n",
            "카페라떼: 5잔, 가격: 20000원\n",
            "\n",
            "총 주문 금액: 20000원\n",
            "이용해 주셔서 감사합니다. 안녕히 가십시오!\n"
          ]
        }
      ]
    },
    {
      "cell_type": "markdown",
      "source": [
        "함수"
      ],
      "metadata": {
        "id": "oVRdOR-X7A5D"
      }
    },
    {
      "cell_type": "code",
      "source": [
        "'''\n",
        "def make_apple_juice(apple):\n",
        "    return \"사과주스\"\n",
        "'''"
      ],
      "metadata": {
        "colab": {
          "base_uri": "https://localhost:8080/",
          "height": 35
        },
        "id": "jsZr3_io7BYS",
        "outputId": "16655d33-7ce1-4fc2-9daa-1af3473ba72e"
      },
      "execution_count": 26,
      "outputs": [
        {
          "output_type": "execute_result",
          "data": {
            "text/plain": [
              "'\\ndef make_apple_juice(apple):\\n    return \"사과주스\"\\n'"
            ],
            "application/vnd.google.colaboratory.intrinsic+json": {
              "type": "string"
            }
          },
          "metadata": {},
          "execution_count": 26
        }
      ]
    },
    {
      "cell_type": "code",
      "source": [
        "def make_apple_juice(x):\n",
        "    return \"사과주스\"\n",
        "\n",
        "# x : 매개변수"
      ],
      "metadata": {
        "id": "JdIVvYhB7JL6"
      },
      "execution_count": 27,
      "outputs": []
    },
    {
      "cell_type": "code",
      "source": [
        "make_apple_juice(\"사과\")"
      ],
      "metadata": {
        "colab": {
          "base_uri": "https://localhost:8080/",
          "height": 35
        },
        "id": "adzHEMLk7Lji",
        "outputId": "7518f7f9-5bac-4aa3-e3d2-d58c62789945"
      },
      "execution_count": 29,
      "outputs": [
        {
          "output_type": "execute_result",
          "data": {
            "text/plain": [
              "'사과주스'"
            ],
            "application/vnd.google.colaboratory.intrinsic+json": {
              "type": "string"
            }
          },
          "metadata": {},
          "execution_count": 29
        }
      ]
    },
    {
      "cell_type": "code",
      "source": [
        "# 두 수를 더하는 함수 정의\n",
        "def add_numbers(x, y):\n",
        "    sum = x + y\n",
        "    return sum\n",
        "\n",
        "# 함수 호출\n",
        "result = add_numbers(5, 3)\n",
        "print(\"결과:\", result)  # 출력: 8\n"
      ],
      "metadata": {
        "colab": {
          "base_uri": "https://localhost:8080/"
        },
        "id": "WWbaffs67WvL",
        "outputId": "f8b6d15d-f5ff-42d0-8172-dcdd0db63d5c"
      },
      "execution_count": 31,
      "outputs": [
        {
          "output_type": "stream",
          "name": "stdout",
          "text": [
            "결과: 8\n"
          ]
        }
      ]
    }
  ]
}