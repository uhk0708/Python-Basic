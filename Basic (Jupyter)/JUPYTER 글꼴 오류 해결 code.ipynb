{
 "cells": [
  {
   "cell_type": "code",
   "execution_count": 1,
   "metadata": {},
   "outputs": [],
   "source": [
    "# # matplotlib 한글 폰트 오류 문제 해결 (local pc)\n",
    "# 10:07\n",
    "# from matplotlib import font_manager, rc\n",
    "# import matplotlib as mpl\n",
    "# # font_path = '../data/malgun.ttf' # local\n",
    "# font_name = font_manager.FontProperties(fname=font_path).get_name()\n",
    "# rc('font', family=font_name)\n",
    "# # 마이너스 깨짐 현상 해결\n",
    "# mpl.rcParams['axes.unicode_minus'] = False\n",
    "# 10:12\n",
    "# # COLAB에서 나눔 폰트로 적용하는 방법입니다.\n",
    "# # 셀1\n",
    "# !sudo apt-get install -y fonts-nanum\n",
    "# !sudo fc-cache -fv\n",
    "# !rm ~/.cache/matplotlib -rf\n",
    "# #런타임 재시작\n",
    "# #셀2\n",
    "# import matplotlib.pyplot as plt\n",
    "# plt.rc('font', family='NanumBarunGothic')"
   ]
  },
  {
   "cell_type": "code",
   "execution_count": null,
   "metadata": {},
   "outputs": [],
   "source": []
  }
 ],
 "metadata": {
  "kernelspec": {
   "display_name": "base",
   "language": "python",
   "name": "python3"
  },
  "language_info": {
   "codemirror_mode": {
    "name": "ipython",
    "version": 3
   },
   "file_extension": ".py",
   "mimetype": "text/x-python",
   "name": "python",
   "nbconvert_exporter": "python",
   "pygments_lexer": "ipython3",
   "version": "3.11.7"
  }
 },
 "nbformat": 4,
 "nbformat_minor": 2
}
