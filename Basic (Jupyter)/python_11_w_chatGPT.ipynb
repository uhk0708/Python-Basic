{
  "nbformat": 4,
  "nbformat_minor": 0,
  "metadata": {
    "colab": {
      "provenance": []
    },
    "kernelspec": {
      "name": "python3",
      "display_name": "Python 3"
    },
    "language_info": {
      "name": "python"
    }
  },
  "cells": [
    {
      "cell_type": "code",
      "execution_count": 1,
      "metadata": {
        "colab": {
          "base_uri": "https://localhost:8080/"
        },
        "id": "6RK36jRzahYH",
        "outputId": "b1d22de4-968d-4459-8a7d-6bc4376ecd44"
      },
      "outputs": [
        {
          "output_type": "stream",
          "name": "stdout",
          "text": [
            "hello\n"
          ]
        }
      ],
      "source": [
        "# print()는 실행할 때, 내가 볼 수 있도록 실행화면에 \"출력\"하는 명령어\n",
        "# 괄호() 안에 값을 넣어줌\n",
        "\n",
        "print(\"hello\")"
      ]
    },
    {
      "cell_type": "markdown",
      "source": [
        "변수"
      ],
      "metadata": {
        "id": "euW6BjaAbAa9"
      }
    },
    {
      "cell_type": "code",
      "source": [
        "# 변수에 값 할당하기\n",
        "age = 25\n",
        "name = \"John\"\n",
        "is_student = True\n",
        "\n",
        "# 변수 값 출력하기\n",
        "print(\"나이:\", age)\n",
        "print(\"이름:\", name)\n",
        "print(\"학생 여부:\", is_student)\n"
      ],
      "metadata": {
        "colab": {
          "base_uri": "https://localhost:8080/"
        },
        "id": "BxeltLfua1zO",
        "outputId": "6ea323dd-5629-42bd-9f74-dcb874fa96a4"
      },
      "execution_count": 2,
      "outputs": [
        {
          "output_type": "stream",
          "name": "stdout",
          "text": [
            "나이: 25\n",
            "이름: John\n",
            "학생 여부: True\n"
          ]
        }
      ]
    },
    {
      "cell_type": "code",
      "source": [
        "print(\"hello, 닥터윌~\")\n",
        "myname =\"카리나\"\n",
        "print(\"hello \" + myname + \"!\")"
      ],
      "metadata": {
        "colab": {
          "base_uri": "https://localhost:8080/"
        },
        "id": "R3Ce0lsTa7T-",
        "outputId": "571186dd-8fae-413f-c064-625ce22066e0"
      },
      "execution_count": 4,
      "outputs": [
        {
          "output_type": "stream",
          "name": "stdout",
          "text": [
            "hello, 닥터윌~\n",
            "hello 카리나!\n"
          ]
        }
      ]
    },
    {
      "cell_type": "markdown",
      "source": [
        "문자열"
      ],
      "metadata": {
        "id": "3DoqwHD1bN3-"
      }
    },
    {
      "cell_type": "code",
      "source": [
        "name = \"Alice\"\n",
        "greeting = '안녕하세요!'\n",
        "print(\"이름:\", name)\n",
        "print(\"인사말:\", greeting)"
      ],
      "metadata": {
        "colab": {
          "base_uri": "https://localhost:8080/"
        },
        "id": "ET8sANv7bJja",
        "outputId": "609df546-179f-46e4-f672-572da203df2a"
      },
      "execution_count": 5,
      "outputs": [
        {
          "output_type": "stream",
          "name": "stdout",
          "text": [
            "이름: Alice\n",
            "인사말: 안녕하세요!\n"
          ]
        }
      ]
    },
    {
      "cell_type": "code",
      "source": [
        "# 우리가 사용하는 두 개 이상의 문자가 모이면 >> 문자열이라고 함\n",
        "# 문자열은 따옴표 안에 문자를 집어 넣음\n",
        "\n",
        "myname = \"닥터윌\""
      ],
      "metadata": {
        "id": "lu6XdtKWbYEn"
      },
      "execution_count": 6,
      "outputs": []
    },
    {
      "cell_type": "markdown",
      "source": [
        "숫자"
      ],
      "metadata": {
        "id": "usCuvnCAbmwW"
      }
    },
    {
      "cell_type": "code",
      "source": [
        "# 정수\n",
        "num1 = 10\n",
        "num2 = -5\n",
        "result = num1 + num2\n",
        "print(\"덧셈 결과:\", result)  # 출력: 5\n"
      ],
      "metadata": {
        "colab": {
          "base_uri": "https://localhost:8080/"
        },
        "id": "qDtZFfErbYHR",
        "outputId": "483eaaf4-ca4d-48cf-c16b-b307d821da35"
      },
      "execution_count": 7,
      "outputs": [
        {
          "output_type": "stream",
          "name": "stdout",
          "text": [
            "덧셈 결과: 5\n"
          ]
        }
      ]
    },
    {
      "cell_type": "code",
      "source": [
        "# 실수\n",
        "pi = 3.14\n",
        "radius = 2.5\n",
        "area = pi * (radius ** 2)\n",
        "print(\"원의 넓이:\", area)  # 출력: 19.625\n"
      ],
      "metadata": {
        "colab": {
          "base_uri": "https://localhost:8080/"
        },
        "id": "iwPiWYspbYJr",
        "outputId": "25a9acf0-fd31-48bc-ff0d-a35ca10a8604"
      },
      "execution_count": 8,
      "outputs": [
        {
          "output_type": "stream",
          "name": "stdout",
          "text": [
            "원의 넓이: 19.625\n"
          ]
        }
      ]
    },
    {
      "cell_type": "code",
      "source": [
        "# 숫자는 소수점이 없는 것(정수)와 있는 것(소수)로 나뉨\n",
        "\n",
        "num1 = 10\n",
        "num2 = 1.2\n",
        "myname = \"닥터윌\"\n",
        "\n",
        "# 어떻게 다른지 type() 을 사용해서 확인\n",
        "print(type(num1))\n",
        "print(type(num2))\n",
        "print(type(myname))"
      ],
      "metadata": {
        "colab": {
          "base_uri": "https://localhost:8080/"
        },
        "id": "rcQ_Azv8bxxK",
        "outputId": "bb8ade00-b803-415b-acb5-a0e4242a9969"
      },
      "execution_count": 9,
      "outputs": [
        {
          "output_type": "stream",
          "name": "stdout",
          "text": [
            "<class 'int'>\n",
            "<class 'float'>\n",
            "<class 'str'>\n"
          ]
        }
      ]
    },
    {
      "cell_type": "markdown",
      "source": [
        "참/거짓(boolean: bool)"
      ],
      "metadata": {
        "id": "lO1LdnnGcT0v"
      }
    },
    {
      "cell_type": "code",
      "source": [
        "# 참/거짓\n",
        "# 참/거짓은 따옴표 없이 첫 글자를 대문자로 사용해요\n",
        "is_adult = True\n",
        "is_woman = False\n",
        "# 이걸 왜 쓰지? 조건문에서 사용함"
      ],
      "metadata": {
        "id": "webgVgxZcJHV"
      },
      "execution_count": 10,
      "outputs": []
    },
    {
      "cell_type": "code",
      "source": [
        "is_student = True\n",
        "is_adult = False\n",
        "\n",
        "print(\"학생 여부:\", is_student)\n",
        "print(\"성인 여부:\", is_adult)\n"
      ],
      "metadata": {
        "colab": {
          "base_uri": "https://localhost:8080/"
        },
        "id": "yanFInvech0m",
        "outputId": "e152edb8-2af2-47fb-ac43-43dd4f9ca2b1"
      },
      "execution_count": 11,
      "outputs": [
        {
          "output_type": "stream",
          "name": "stdout",
          "text": [
            "학생 여부: True\n",
            "성인 여부: False\n"
          ]
        }
      ]
    },
    {
      "cell_type": "markdown",
      "source": [
        "리스트(list)"
      ],
      "metadata": {
        "id": "2VapyWkqf8A4"
      }
    },
    {
      "cell_type": "code",
      "source": [
        "# 리스트는 말 그대로 목록\n",
        "\n",
        "fruits = ['사과','배','감']\n",
        "# 리스트 안에는 아무거나 들어갈 수 있음(숫자, 문자 상관없음)\n",
        "\n",
        "print(fruits[0]) # index는 0부터 시작함\n",
        "\n",
        "fruits.append('망고')\n",
        "print(fruits)"
      ],
      "metadata": {
        "colab": {
          "base_uri": "https://localhost:8080/"
        },
        "id": "kbdIOnDyclX8",
        "outputId": "c7ebcadf-a4af-42bc-bf01-8203522d62d2"
      },
      "execution_count": 13,
      "outputs": [
        {
          "output_type": "stream",
          "name": "stdout",
          "text": [
            "사과\n",
            "['사과', '배', '감', '망고']\n"
          ]
        }
      ]
    },
    {
      "cell_type": "code",
      "source": [
        "# 리스트 생성하기\n",
        "numbers = [1, 2, 3, 4, 5]\n",
        "fruits = [\"사과\", \"바나나\", \"오렌지\"]\n",
        "mixed_list = [10, \"hello\", True, 3.14]\n",
        "\n",
        "# 리스트 요소에 접근하기 (**)\n",
        "print(\"첫 번째 과일:\", fruits[0])  # 출력: 사과\n",
        "print(\"두 번째 숫자:\", numbers[1])  # 출력: 2\n",
        "\n",
        "# 리스트 요소 수정하기 (*)\n",
        "fruits[0] = \"체리\"\n",
        "print(\"수정된 첫 번째 과일:\", fruits[0])  # 출력: 체리\n",
        "\n",
        "# 리스트에 요소 추가하기 (**)\n",
        "fruits.append(\"포도\")\n",
        "print(\"추가된 과일:\", fruits)  # 출력: [\"체리\", \"바나나\", \"오렌지\", \"포도\"]\n",
        "\n",
        "# 리스트에서 요소 제거하기\n",
        "fruits.remove(\"바나나\")\n",
        "print(\"제거된 과일:\", fruits)  # 출력: [\"체리\", \"오렌지\", \"포도\"]\n"
      ],
      "metadata": {
        "colab": {
          "base_uri": "https://localhost:8080/"
        },
        "id": "C8TfNhMMgKzn",
        "outputId": "1328ae80-a468-4475-b3b4-3620cd503eb1"
      },
      "execution_count": 14,
      "outputs": [
        {
          "output_type": "stream",
          "name": "stdout",
          "text": [
            "첫 번째 과일: 사과\n",
            "두 번째 숫자: 2\n",
            "수정된 첫 번째 과일: 체리\n",
            "추가된 과일: ['체리', '바나나', '오렌지', '포도']\n",
            "제거된 과일: ['체리', '오렌지', '포도']\n"
          ]
        }
      ]
    },
    {
      "cell_type": "markdown",
      "source": [
        "딕셔너리(dictionary)"
      ],
      "metadata": {
        "id": "gEdZHB8lgsPQ"
      }
    },
    {
      "cell_type": "code",
      "source": [
        "# 말 그대로 사전 !\n",
        "\n",
        "a_dict = {} # 빈 딕셔너리 생성 (초기화)\n",
        "print(a_dict)\n",
        "\n",
        "a_dict = {'name': '김현우', 'age': 25} # 값을 채운 딕셔너리 생성\n",
        "\n",
        "# a_dict의 값은?\n",
        "print(a_dict)\n",
        "\n",
        "# a_dict['name']  의 값은?\n",
        "# a_dict['name'] >> key에 접근, value 값 추출\n",
        "print(a_dict['name'])"
      ],
      "metadata": {
        "colab": {
          "base_uri": "https://localhost:8080/"
        },
        "id": "oc-uZnhEgusp",
        "outputId": "6b1a324f-88db-40c1-fb44-ce5191f45c3b"
      },
      "execution_count": 17,
      "outputs": [
        {
          "output_type": "stream",
          "name": "stdout",
          "text": [
            "{}\n",
            "{'name': '김현우', 'age': 25}\n",
            "김현우\n"
          ]
        }
      ]
    },
    {
      "cell_type": "code",
      "source": [
        "# 사전 생성하기\n",
        "student = {\n",
        "    \"이름\": \"홍길동\",\n",
        "    \"나이\": 20,\n",
        "    \"성별\": \"남성\"\n",
        "}\n",
        "\n",
        "# key를 사용하여 값에 접근하기\n",
        "print(\"이름:\", student[\"이름\"])  # 출력: 홍길동\n",
        "print(\"나이:\", student[\"나이\"])  # 출력: 20\n",
        "\n",
        "# 사전 값 수정하기\n",
        "student[\"나이\"] = 25\n",
        "print(\"수정된 나이:\", student[\"나이\"])  # 출력: 25\n",
        "\n",
        "# 새로운 키-값 쌍 추가하기\n",
        "student[\"학교\"] = \"고려대학교\"\n",
        "print(\"추가된 학교 정보:\", student)  # 출력: {'이름': '홍길동', '나이': 25, '성별': '남성', '학교': '고려대학교'}\n",
        "\n",
        "# 키를 사용하여 사전에서 항목 제거하기\n",
        "del student[\"성별\"]\n",
        "print(\"제거된 성별 정보:\", student)  # 출력: {'이름': '홍길동', '나이': 25, '학교': '고려대학교'}\n"
      ],
      "metadata": {
        "colab": {
          "base_uri": "https://localhost:8080/"
        },
        "id": "IB-XpXduhCrP",
        "outputId": "e9e956f5-1cb7-4d2e-8b72-4689ee616fdd"
      },
      "execution_count": 18,
      "outputs": [
        {
          "output_type": "stream",
          "name": "stdout",
          "text": [
            "이름: 홍길동\n",
            "나이: 20\n",
            "수정된 나이: 25\n",
            "추가된 학교 정보: {'이름': '홍길동', '나이': 25, '성별': '남성', '학교': '고려대학교'}\n",
            "제거된 성별 정보: {'이름': '홍길동', '나이': 25, '학교': '고려대학교'}\n"
          ]
        }
      ]
    },
    {
      "cell_type": "markdown",
      "source": [
        "문자열 응용"
      ],
      "metadata": {
        "id": "4Amj3ZRWh_ma"
      }
    },
    {
      "cell_type": "code",
      "source": [
        "# 문자열 간의 더하기는 두 문자열을 이어붙인 문자열\n",
        "\n",
        "first_name = \"Harry\"\n",
        "last_name = \"Porter\"\n",
        "\n",
        "print(first_name + \" \" + last_name)\n",
        "# \" \" : 띄어쓰기도 특수 \"문자\""
      ],
      "metadata": {
        "colab": {
          "base_uri": "https://localhost:8080/"
        },
        "id": "9Vg_NvW5iA4D",
        "outputId": "48a6f17c-a04f-42ab-8700-e7e6ce42e21a"
      },
      "execution_count": 22,
      "outputs": [
        {
          "output_type": "stream",
          "name": "stdout",
          "text": [
            "Harry Porter\n"
          ]
        }
      ]
    },
    {
      "cell_type": "code",
      "source": [
        "a = \"3\"\n",
        "b = \"5\"\n",
        "\n",
        "print(a+b)"
      ],
      "metadata": {
        "colab": {
          "base_uri": "https://localhost:8080/"
        },
        "id": "zVl3XI0ZiL6f",
        "outputId": "81388b15-70b0-4136-fc32-f562b83c9471"
      },
      "execution_count": 23,
      "outputs": [
        {
          "output_type": "stream",
          "name": "stdout",
          "text": [
            "35\n"
          ]
        }
      ]
    },
    {
      "cell_type": "code",
      "source": [
        "'''\n",
        "a = \"3\"\n",
        "b = 5\n",
        "\n",
        "print(a+b)\n",
        "TypeError: can only concatenate str (not \"int\") to str\n",
        "\n",
        "문자열과 숫자형은 더할 수 없다\n",
        "'''"
      ],
      "metadata": {
        "colab": {
          "base_uri": "https://localhost:8080/",
          "height": 53
        },
        "id": "OLIFaDFkiiea",
        "outputId": "17368f87-b87d-493a-d31b-3ca8ffb1ff89"
      },
      "execution_count": 25,
      "outputs": [
        {
          "output_type": "execute_result",
          "data": {
            "text/plain": [
              "'\\na = \"3\"\\nb = 5   \\n\\nprint(a+b)\\nTypeError: can only concatenate str (not \"int\") to str\\n\\n문자열과 숫자형은 더할 수 없다 \\n'"
            ],
            "application/vnd.google.colaboratory.intrinsic+json": {
              "type": "string"
            }
          },
          "metadata": {},
          "execution_count": 25
        }
      ]
    },
    {
      "cell_type": "code",
      "source": [
        "# 위 문제를 해결하기 위해서 숫자 간 더하는 것으로 바꾸자 (문자 >> 숫자)\n",
        "\n",
        "a = \"3\"\n",
        "b = 5\n",
        "\n",
        "a = int(a)\n",
        "\n",
        "print(a+b)"
      ],
      "metadata": {
        "colab": {
          "base_uri": "https://localhost:8080/"
        },
        "id": "HVQMVWRfjCOo",
        "outputId": "5e1b2cb6-0a15-4601-e91b-aeb858147a14"
      },
      "execution_count": 27,
      "outputs": [
        {
          "output_type": "stream",
          "name": "stdout",
          "text": [
            "8\n"
          ]
        }
      ]
    },
    {
      "cell_type": "code",
      "source": [
        "# 그럼 문자열에 숫자를 담은 것은 언제 쓰지?\n",
        "# 문자와 숫자를 조합하는 경우에 사용\n",
        "\n",
        "myteam = \"drwill\"\n",
        "myid = \"55\"\n",
        "\n",
        "mynumber = myteam + myid\n",
        "\n",
        "print(mynumber)"
      ],
      "metadata": {
        "colab": {
          "base_uri": "https://localhost:8080/"
        },
        "id": "kq6WtwOMin0r",
        "outputId": "f7203b7e-ef85-475f-d017-ba6f5ffd71c6"
      },
      "execution_count": 26,
      "outputs": [
        {
          "output_type": "stream",
          "name": "stdout",
          "text": [
            "drwill55\n"
          ]
        }
      ]
    },
    {
      "cell_type": "markdown",
      "source": [
        "특정 문자를 기준으로 문자열 나누기"
      ],
      "metadata": {
        "id": "JYGfib3QjVJn"
      }
    },
    {
      "cell_type": "code",
      "source": [
        "# 이메일 주소에서 도메인 'gmail' 만 추출하기\n",
        "\n",
        "myemail = 'test@gmail.com'\n",
        "\n",
        "print(myemail)\n",
        "print(myemail.split('@'))\n",
        "print('-------------------------------')\n",
        "result = myemail.split('@')\n",
        "print(result[0])\n",
        "print(result[1])\n"
      ],
      "metadata": {
        "colab": {
          "base_uri": "https://localhost:8080/"
        },
        "id": "R2tK25l1i_xk",
        "outputId": "f5be1984-2f5b-487c-b5e2-b1e2ec70a23f"
      },
      "execution_count": 31,
      "outputs": [
        {
          "output_type": "stream",
          "name": "stdout",
          "text": [
            "test@gmail.com\n",
            "['test', 'gmail.com']\n",
            "-------------------------------\n",
            "test\n",
            "gmail.com\n"
          ]
        }
      ]
    },
    {
      "cell_type": "code",
      "source": [
        "result2 = result[1].split('.')\n",
        "print(result2)"
      ],
      "metadata": {
        "colab": {
          "base_uri": "https://localhost:8080/"
        },
        "id": "VoYfvIr_jkBV",
        "outputId": "3c13ab21-15a9-4edc-ad04-dad8e67e10eb"
      },
      "execution_count": 33,
      "outputs": [
        {
          "output_type": "stream",
          "name": "stdout",
          "text": [
            "['gmail', 'com']\n"
          ]
        }
      ]
    },
    {
      "cell_type": "code",
      "source": [
        "print(result2[0]) # gmail >> 우리가 알고 싶었던 것(어떤 이메일 계정 사용하는지 파악)\n",
        "print(result2[1]) # com"
      ],
      "metadata": {
        "colab": {
          "base_uri": "https://localhost:8080/"
        },
        "id": "gmC5EIqklLwi",
        "outputId": "e8b4f28b-a13d-4fc2-eef4-86e21e0f251a"
      },
      "execution_count": 35,
      "outputs": [
        {
          "output_type": "stream",
          "name": "stdout",
          "text": [
            "gmail\n",
            "com\n"
          ]
        }
      ]
    },
    {
      "cell_type": "code",
      "source": [
        "# 한 줄로 한 번에 처리하고파 (method chaining 메서드 체인)\n",
        "myemail.split('@')[1].split('.')[0]"
      ],
      "metadata": {
        "colab": {
          "base_uri": "https://localhost:8080/",
          "height": 35
        },
        "id": "4ImbmmARl_-X",
        "outputId": "a6bf68a1-7ccc-47f7-e2ae-09767c9c80ae"
      },
      "execution_count": 43,
      "outputs": [
        {
          "output_type": "execute_result",
          "data": {
            "text/plain": [
              "'gmail'"
            ],
            "application/vnd.google.colaboratory.intrinsic+json": {
              "type": "string"
            }
          },
          "metadata": {},
          "execution_count": 43
        }
      ]
    },
    {
      "cell_type": "markdown",
      "source": [
        "특정 문자를 다른 문자로 바꾸기"
      ],
      "metadata": {
        "id": "9VJZ-hoCm9xX"
      }
    },
    {
      "cell_type": "code",
      "source": [
        "txt = '서울시-마포구-망원동'\n",
        "print(txt.replace('-', '>'))"
      ],
      "metadata": {
        "colab": {
          "base_uri": "https://localhost:8080/"
        },
        "id": "RhB-d64Jmjml",
        "outputId": "8fb6fdc8-7fd7-4806-fe3a-222c9f02ecef"
      },
      "execution_count": 44,
      "outputs": [
        {
          "output_type": "stream",
          "name": "stdout",
          "text": [
            "서울시>마포구>망원동\n"
          ]
        }
      ]
    },
    {
      "cell_type": "markdown",
      "source": [
        "질의응답"
      ],
      "metadata": {
        "id": "Z6Xq0MeXtCgm"
      }
    },
    {
      "cell_type": "code",
      "source": [
        "'''\n",
        "이메일이나 주소를 사용하다 보면 옛날에 co.kr 이런거 쓰던경우가 있었는데\n",
        "이때 .을 기준으로 분리하면 co 와 kr 도 분리되어 버리는데 이부분은 분리 안되게 할려면 어떻게 해야하나요?\n",
        "'''"
      ],
      "metadata": {
        "colab": {
          "base_uri": "https://localhost:8080/",
          "height": 53
        },
        "id": "fX3AYANxnINI",
        "outputId": "860980f6-bc61-4905-93ff-5b56d9528f4e"
      },
      "execution_count": 45,
      "outputs": [
        {
          "output_type": "execute_result",
          "data": {
            "text/plain": [
              "'\\n이메일이나 주소를 사용하다 보면 옛날에 co.kr 이런거 쓰던경우가 있었는데 \\n이때 .을 기준으로 분리하면 co 와 kr 도 분리되어 버리는데 이부분은 분리 안되게 할려면 어떻게 해야하나요?\\n'"
            ],
            "application/vnd.google.colaboratory.intrinsic+json": {
              "type": "string"
            }
          },
          "metadata": {},
          "execution_count": 45
        }
      ]
    },
    {
      "cell_type": "code",
      "source": [
        "mail = 'yahoo.co.kr'\n",
        "a = mail.split('.')\n",
        "print(a , type(a))\n",
        "\n",
        "print('-' * 30)\n",
        "\n",
        "b = '.'.join([a[1], a[2]])     # join() 함수는 문자열을 이어붙이는 함수입니다.\n",
        "print(b, type(b))"
      ],
      "metadata": {
        "colab": {
          "base_uri": "https://localhost:8080/"
        },
        "id": "06g-oMTftIFp",
        "outputId": "b03292e2-29b0-4733-a6b1-886d9de16919"
      },
      "execution_count": 49,
      "outputs": [
        {
          "output_type": "stream",
          "name": "stdout",
          "text": [
            "['yahoo', 'co', 'kr'] <class 'list'>\n",
            "------------------------------\n",
            "co.kr <class 'str'>\n"
          ]
        }
      ]
    },
    {
      "cell_type": "code",
      "source": [
        "mail.split('.', maxsplit=1)\n",
        "\n",
        "# mail 문자열에서 '.' 기준, 최대한 옵션(1번)만 분리해 >> 리스트로 반환"
      ],
      "metadata": {
        "colab": {
          "base_uri": "https://localhost:8080/"
        },
        "id": "bu23qeV8wY-3",
        "outputId": "0b795e1e-d919-443c-a99d-3f4fea8ec3fe"
      },
      "execution_count": 57,
      "outputs": [
        {
          "output_type": "execute_result",
          "data": {
            "text/plain": [
              "['yahoo', 'co.kr']"
            ]
          },
          "metadata": {},
          "execution_count": 57
        }
      ]
    },
    {
      "cell_type": "code",
      "source": [
        "mail.split('.', maxsplit=2)"
      ],
      "metadata": {
        "colab": {
          "base_uri": "https://localhost:8080/"
        },
        "id": "0qLO00HnwxgF",
        "outputId": "079873c4-b97e-46ff-af3b-2f09919908d3"
      },
      "execution_count": 58,
      "outputs": [
        {
          "output_type": "execute_result",
          "data": {
            "text/plain": [
              "['yahoo', 'co', 'kr']"
            ]
          },
          "metadata": {},
          "execution_count": 58
        }
      ]
    },
    {
      "cell_type": "markdown",
      "source": [
        "join() 함수"
      ],
      "metadata": {
        "id": "EzggnSbktlmB"
      }
    },
    {
      "cell_type": "code",
      "source": [
        "과일 = ['사과','배','딸기']\n",
        "\n",
        "'-'.join(과일)"
      ],
      "metadata": {
        "colab": {
          "base_uri": "https://localhost:8080/",
          "height": 35
        },
        "id": "zEiXOpV7tYXj",
        "outputId": "e8978b98-62d4-44f2-fcce-e0dfd0066b49"
      },
      "execution_count": 50,
      "outputs": [
        {
          "output_type": "execute_result",
          "data": {
            "text/plain": [
              "'사과-배-딸기'"
            ],
            "application/vnd.google.colaboratory.intrinsic+json": {
              "type": "string"
            }
          },
          "metadata": {},
          "execution_count": 50
        }
      ]
    },
    {
      "cell_type": "code",
      "source": [
        "import re\n",
        "# 정규표현식 (re: regular expresion)\n",
        "\n",
        "homepage = 'drwill.co.kr'\n",
        "parts = re.split(r'\\.', homepage)[-2:]\n",
        "# 정규표현식(re)의 split()함수 사용\n",
        "# r'\\.' : '.'을 기준, 문자열 분리\n",
        "# 그 중 마지막 두 부분을 선택 >> 리스트로 반환\n",
        "\n",
        "result = \".\".join(parts)\n",
        "\n",
        "print(result)\n"
      ],
      "metadata": {
        "colab": {
          "base_uri": "https://localhost:8080/"
        },
        "id": "DbNa1rH3tyt2",
        "outputId": "5e6bd824-4d6a-4b2c-d1d9-69e41fed49db"
      },
      "execution_count": 54,
      "outputs": [
        {
          "output_type": "stream",
          "name": "stdout",
          "text": [
            "co.kr\n"
          ]
        }
      ]
    },
    {
      "cell_type": "code",
      "source": [
        "re.split(r'\\.', homepage)"
      ],
      "metadata": {
        "colab": {
          "base_uri": "https://localhost:8080/"
        },
        "id": "mvYDipZru8EN",
        "outputId": "f712a656-72d7-40a7-f020-a152b3b52051"
      },
      "execution_count": 55,
      "outputs": [
        {
          "output_type": "execute_result",
          "data": {
            "text/plain": [
              "['drwill', 'co', 'kr']"
            ]
          },
          "metadata": {},
          "execution_count": 55
        }
      ]
    }
  ]
}