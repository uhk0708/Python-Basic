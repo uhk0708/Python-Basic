{
 "cells": [
  {
   "cell_type": "markdown",
   "id": "f3e4357e-0911-474a-b220-4404aedc6e50",
   "metadata": {},
   "source": [
    "변수"
   ]
  },
  {
   "cell_type": "code",
   "execution_count": 53,
   "id": "e845e6fd-c382-4566-9578-1ff76fb50997",
   "metadata": {},
   "outputs": [
    {
     "name": "stdout",
     "output_type": "stream",
     "text": [
      "1\n"
     ]
    }
   ],
   "source": [
    "a = 1\n",
    "\n",
    "print(a)"
   ]
  },
  {
   "cell_type": "code",
   "execution_count": 54,
   "id": "1edb6742-0f40-4e64-948f-9e088176c859",
   "metadata": {},
   "outputs": [
    {
     "name": "stdout",
     "output_type": "stream",
     "text": [
      "6\n",
      "6\n"
     ]
    }
   ],
   "source": [
    "b = 6\n",
    "a = b\n",
    "# 얕은 복사 (shallow copy) : 같이 바뀌니까\n",
    "\n",
    "print(a)\n",
    "print(b)"
   ]
  },
  {
   "cell_type": "markdown",
   "id": "034a16b3-a596-4df5-bef1-271bd6beac39",
   "metadata": {},
   "source": [
    "데이터 타입(dtype)"
   ]
  },
  {
   "cell_type": "code",
   "execution_count": 55,
   "id": "1fd59ef9-e0c2-4c96-877f-773d06e9d56e",
   "metadata": {},
   "outputs": [
    {
     "name": "stdout",
     "output_type": "stream",
     "text": [
      "1 5 3.3 0.5\n",
      "<class 'int'> <class 'int'> <class 'float'> <class 'float'>\n"
     ]
    }
   ],
   "source": [
    "# 숫자형\n",
    "\n",
    "a = 1 ; b = 5 ; c = 3.3 ; d = 0.5\n",
    "\n",
    "print(a,b,c,d)\n",
    "print(type(a),type(b),type(c),type(d))"
   ]
  },
  {
   "cell_type": "code",
   "execution_count": 56,
   "id": "03a0323f-e34b-4886-921a-6c9861d75257",
   "metadata": {},
   "outputs": [
    {
     "name": "stdout",
     "output_type": "stream",
     "text": [
      "6 -4 5 0.2\n",
      "1.0\n",
      "0.0\n",
      "1.0\n"
     ]
    }
   ],
   "source": [
    "# 파이썬 연산\n",
    "print(a+b , a-b , a*b , a/b) # 사칙연산(+,-,*,/)\n",
    "print(a **c) # 제곱\n",
    "print(a //c) # 몫\n",
    "print(a % c) # 나머지 "
   ]
  },
  {
   "cell_type": "code",
   "execution_count": 57,
   "id": "14176023-6614-49c3-bc1c-f22264acc6fc",
   "metadata": {},
   "outputs": [
    {
     "name": "stdout",
     "output_type": "stream",
     "text": [
      "pythonprogramming\n",
      "pythonpython\n"
     ]
    }
   ],
   "source": [
    "# 문자열 형\n",
    "\n",
    "str1 = \"python\"\n",
    "str2 = \"programming\"\n",
    "print(str1 + str2) # 문자열 더하기 >> 문자끼리 연결\n",
    "print(str1 * 2) # 문자열 곱하기 >> 문자열 반복"
   ]
  },
  {
   "cell_type": "code",
   "execution_count": 58,
   "id": "b7c6e605-2bf5-4194-8f10-88d2d74108bd",
   "metadata": {},
   "outputs": [
    {
     "name": "stdout",
     "output_type": "stream",
     "text": [
      "p\n",
      "n\n",
      "18\n",
      "p\n",
      "********************\n",
      "yth\n",
      "python\n",
      "ing\n"
     ]
    }
   ],
   "source": [
    "# 문자열 안댁싱 & 슬라이싱\n",
    "str = \"python programming\"\n",
    "print(str[0]) # 인덱싱 (특정 위치 값 추출)\n",
    "print(str[-2])\n",
    "print(len(str)) # 데이터 크기 (길이)\n",
    "print(str[-18])\n",
    "print(\"*\" *20)\n",
    "\n",
    "print(str[1:4])\n",
    "print(str[:6])\n",
    "print(str[-3:])"
   ]
  },
  {
   "cell_type": "code",
   "execution_count": 59,
   "id": "30e5ed48-16c0-4e94-aebd-0e443f5748e7",
   "metadata": {},
   "outputs": [
    {
     "name": "stdout",
     "output_type": "stream",
     "text": [
      "오늘은 28 일 입니다.\n",
      "오늘은 목요일 입니다.\n",
      "지금 온도는 36.500000도 입니다.\n",
      "지금 온도는 36.50도 입니다.\n"
     ]
    }
   ],
   "source": [
    "# 문자열 포맷팅\n",
    "# f'{}' : f-string (강추)\n",
    "\n",
    "print(\"오늘은 %d 일 입니다.\"%28)\n",
    "print(\"오늘은 %s요일 입니다.\"%'목')\n",
    "print(\"지금 온도는 %f도 입니다.\"%36.5)\n",
    "print(\"지금 온도는 %0.2f도 입니다.\"%36.5) # 소수점 2째자리까지만 출력"
   ]
  },
  {
   "cell_type": "markdown",
   "id": "30327973-5d57-4b50-a8fa-49be151484e6",
   "metadata": {},
   "source": [
    "- %s : string 문자열\n",
    "- %c : 단일문자(chatacter : char)\n",
    "- %d : 정수(int)\n",
    "- %x : 16진수 "
   ]
  },
  {
   "cell_type": "code",
   "execution_count": 60,
   "id": "c153208e-ee02-4b51-9313-7b46b0535a21",
   "metadata": {},
   "outputs": [
    {
     "name": "stdout",
     "output_type": "stream",
     "text": [
      "2\n"
     ]
    }
   ],
   "source": [
    "# 문자열 내장 함수\n",
    "\n",
    "# count() : 문자열 내 특정 문자 개수 세기\n",
    "str = \"python programming\"\n",
    "print(str.count('p')) "
   ]
  },
  {
   "cell_type": "code",
   "execution_count": 61,
   "id": "0f72286d-14e0-4d7d-a526-11bbe2032344",
   "metadata": {},
   "outputs": [
    {
     "data": {
      "text/plain": [
       "'p-y-t-h-o-n- -p-r-o-g-r-a-m-m-i-n-g'"
      ]
     },
     "execution_count": 61,
     "metadata": {},
     "output_type": "execute_result"
    }
   ],
   "source": [
    "# join() : 문자열 삽입\n",
    "\n",
    "\"-\".join(str)"
   ]
  },
  {
   "cell_type": "code",
   "execution_count": 62,
   "id": "e6aaec64-7c69-47d0-862a-9734e7ce97a7",
   "metadata": {},
   "outputs": [
    {
     "data": {
      "text/plain": [
       "5"
      ]
     },
     "execution_count": 62,
     "metadata": {},
     "output_type": "execute_result"
    }
   ],
   "source": [
    "# find() : 찾는 문자열 (처음 나온) 위치 반환\n",
    "\n",
    "str.find('n')"
   ]
  },
  {
   "cell_type": "code",
   "execution_count": 63,
   "id": "b9f68021-8e83-425a-962e-dae75b2d7516",
   "metadata": {},
   "outputs": [
    {
     "name": "stdout",
     "output_type": "stream",
     "text": [
      "PYTHON PROGRAMMING\n"
     ]
    },
    {
     "data": {
      "text/plain": [
       "'python programming'"
      ]
     },
     "execution_count": 63,
     "metadata": {},
     "output_type": "execute_result"
    }
   ],
   "source": [
    "# upper() , lower() 대문자로/ 소문자로 변환\n",
    "\n",
    "print(str.upper())\n",
    "str2 = 'PYTHON PROGRAMMING'\n",
    "str2.lower()"
   ]
  },
  {
   "cell_type": "code",
   "execution_count": 64,
   "id": "2f6800a3-4679-4b05-a5a5-cf984a582236",
   "metadata": {},
   "outputs": [
    {
     "data": {
      "text/plain": [
       "'java programming'"
      ]
     },
     "execution_count": 64,
     "metadata": {},
     "output_type": "execute_result"
    }
   ],
   "source": [
    "# replace(***) : 문자열 내 특정 값을 다른 값으로 변환\n",
    "str.replace(\"python\",\"java\")"
   ]
  },
  {
   "cell_type": "code",
   "execution_count": 65,
   "id": "95bcfc9c-9774-4ed9-ada6-5c5639a09509",
   "metadata": {},
   "outputs": [
    {
     "data": {
      "text/plain": [
       "['python', 'programming']"
      ]
     },
     "execution_count": 65,
     "metadata": {},
     "output_type": "execute_result"
    }
   ],
   "source": [
    "# split(***) : 공백 또는 특정 문자를 [구분자]로 문자열 분리\n",
    "\n",
    "str.split(' ') # 공백 기준 분리"
   ]
  },
  {
   "cell_type": "markdown",
   "id": "17538cb1-d027-4d84-9399-99a3aefdf9f5",
   "metadata": {},
   "source": [
    "연산자"
   ]
  },
  {
   "cell_type": "code",
   "execution_count": 66,
   "id": "a318e748-6ae1-4f80-8bd4-154598dfed0f",
   "metadata": {},
   "outputs": [
    {
     "name": "stdout",
     "output_type": "stream",
     "text": [
      "30\n",
      "10\n",
      "200\n",
      "2.0\n",
      "2\n",
      "0\n",
      "10240000000000\n"
     ]
    }
   ],
   "source": [
    "# 산술 연산자\n",
    "\n",
    "a = 20; b = 10\n",
    "print(a+b) # 더하기\n",
    "print(a-b) # 빼기\n",
    "print(a*b) # 곱하기\n",
    "print(a/b) # 나누기\n",
    "print(a//b) # 몫\n",
    "print(a%b) # 나머지\n",
    "print(a**b) # 거듭제곱"
   ]
  },
  {
   "cell_type": "code",
   "execution_count": 67,
   "id": "41ba498e-17d4-4daf-911d-a53095b0a078",
   "metadata": {},
   "outputs": [
    {
     "name": "stdout",
     "output_type": "stream",
     "text": [
      "False\n",
      "True\n",
      "False\n",
      "False\n",
      "True\n"
     ]
    }
   ],
   "source": [
    "# 비교 (관계) 연산자\n",
    "\n",
    "\n",
    "print(a < b) \n",
    "# boolean(True/False)으로 출력\n",
    "print(a >= b)\n",
    "print(a <= b)\n",
    "print(a == b) # 값이 동일\n",
    "print(a != b) # 값이 다르다"
   ]
  },
  {
   "cell_type": "code",
   "execution_count": 71,
   "id": "342d0622-ff22-4429-9bc6-6321f60d1ff5",
   "metadata": {},
   "outputs": [
    {
     "data": {
      "text/plain": [
       "False"
      ]
     },
     "execution_count": 71,
     "metadata": {},
     "output_type": "execute_result"
    }
   ],
   "source": [
    "# 논리 연산자\n",
    "\n",
    "a = True\n",
    "b = False\n",
    "\n",
    "(a and b)"
   ]
  },
  {
   "cell_type": "code",
   "execution_count": 72,
   "id": "1e4b1df7-5eeb-4d5a-ace8-65cc74d11c80",
   "metadata": {},
   "outputs": [
    {
     "data": {
      "text/plain": [
       "True"
      ]
     },
     "execution_count": 72,
     "metadata": {},
     "output_type": "execute_result"
    }
   ],
   "source": [
    "(a or b)"
   ]
  },
  {
   "cell_type": "code",
   "execution_count": 73,
   "id": "7a167294-5613-4862-ad67-d746f4005622",
   "metadata": {},
   "outputs": [
    {
     "data": {
      "text/plain": [
       "True"
      ]
     },
     "execution_count": 73,
     "metadata": {},
     "output_type": "execute_result"
    }
   ],
   "source": [
    "not b"
   ]
  },
  {
   "cell_type": "code",
   "execution_count": 83,
   "id": "e261660c-20cd-42d9-bf04-ecad62c74fdc",
   "metadata": {},
   "outputs": [
    {
     "name": "stdout",
     "output_type": "stream",
     "text": [
      "20\n"
     ]
    }
   ],
   "source": [
    "# 복합 대입 연산자\n",
    "\n",
    "a = 10\n",
    "a = a + 10\n",
    "print(a)"
   ]
  },
  {
   "cell_type": "code",
   "execution_count": 84,
   "id": "449f2758-d75a-49b8-a3b6-4412740089c5",
   "metadata": {},
   "outputs": [
    {
     "name": "stdout",
     "output_type": "stream",
     "text": [
      "30\n"
     ]
    }
   ],
   "source": [
    "a += 10 # a = a + 10\n",
    "print(a)"
   ]
  },
  {
   "cell_type": "code",
   "execution_count": 85,
   "id": "40f30414-fec0-4d2d-b8b7-91cb9e2956a2",
   "metadata": {},
   "outputs": [
    {
     "name": "stdout",
     "output_type": "stream",
     "text": [
      "20\n"
     ]
    }
   ],
   "source": [
    "a -= 10 # a = a - 10\n",
    "print(a)"
   ]
  },
  {
   "cell_type": "code",
   "execution_count": 86,
   "id": "2242860c-7d10-442a-bf55-2257e2c9ea2e",
   "metadata": {},
   "outputs": [
    {
     "name": "stdout",
     "output_type": "stream",
     "text": [
      "200\n"
     ]
    }
   ],
   "source": [
    "a *= 10 # a = a * 10\n",
    "print(a)"
   ]
  },
  {
   "cell_type": "code",
   "execution_count": 87,
   "id": "6cc3509e-433e-49e2-8b40-c0ee3b8e6a9d",
   "metadata": {},
   "outputs": [
    {
     "name": "stdout",
     "output_type": "stream",
     "text": [
      "20.0\n"
     ]
    }
   ],
   "source": [
    "a /= 10 # a = a / 10\n",
    "print(a)"
   ]
  },
  {
   "cell_type": "markdown",
   "id": "2d612db8-433d-4e9a-b1c1-23975a278392",
   "metadata": {},
   "source": [
    "조건문과 반복문"
   ]
  },
  {
   "cell_type": "code",
   "execution_count": 91,
   "id": "12e74005-f253-474e-990c-c8778f49e0de",
   "metadata": {},
   "outputs": [
    {
     "name": "stdout",
     "output_type": "stream",
     "text": [
      "a는 양의 정수 입니다.\n"
     ]
    }
   ],
   "source": [
    "# 조건문\n",
    "\n",
    "# if 조건문\n",
    "a = 10\n",
    "if (a > 0) :\n",
    "    print(\"a는 양의 정수 입니다.\")"
   ]
  },
  {
   "cell_type": "code",
   "execution_count": 92,
   "id": "3fc9c2b9-7d74-4209-83b8-8a0b0f7162e0",
   "metadata": {},
   "outputs": [],
   "source": [
    "a = 10\n",
    "if (a < 0) :\n",
    "    print(\"a는 양의 정수 입니다.\")\n",
    "\n",
    "# 아무 것도 안 나옴( 왜? if 절 조건이 True가 아니기 때문)"
   ]
  },
  {
   "cell_type": "code",
   "execution_count": 93,
   "id": "d31bc3aa-8e94-4195-96cc-9b8362a2d34c",
   "metadata": {},
   "outputs": [
    {
     "name": "stdout",
     "output_type": "stream",
     "text": [
      "10\n"
     ]
    }
   ],
   "source": [
    "a = 10\n",
    "if (a < 0) :\n",
    "    print(\"a는 양의 정수 입니다.\")\n",
    "\n",
    "print(a)"
   ]
  },
  {
   "cell_type": "code",
   "execution_count": 95,
   "id": "37412c1a-02e1-4ef7-acf3-b5400d9426b9",
   "metadata": {},
   "outputs": [
    {
     "name": "stdout",
     "output_type": "stream",
     "text": [
      "b는 -10입니다.\n",
      "b는 음의 정수입니다.\n"
     ]
    }
   ],
   "source": [
    "# if - else\n",
    "\n",
    "b = -10\n",
    "\n",
    "if(b > 0) :\n",
    "    print(\"b는 %d입니다.\"%b)\n",
    "    print(\"b는 양의 정수입니다.\")\n",
    "\n",
    "else:\n",
    "    print(\"b는 %d입니다.\"%b)\n",
    "    print(\"b는 음의 정수입니다.\")\n"
   ]
  },
  {
   "cell_type": "code",
   "execution_count": 96,
   "id": "d8592f67-3142-4741-afd0-c7025c670aad",
   "metadata": {},
   "outputs": [
    {
     "name": "stdout",
     "output_type": "stream",
     "text": [
      "a는 음의 정수 입니다.\n"
     ]
    }
   ],
   "source": [
    "# if ~elif ~else\n",
    "\n",
    "a = -10\n",
    "\n",
    "if (a > 0):\n",
    "    print(\"a는 양의 정수 입니다.\")\n",
    "elif (a == 0):\n",
    "    print(\"a는 0입니다.\")\n",
    "else:\n",
    "    print(\"a는 음의 정수 입니다.\")"
   ]
  },
  {
   "cell_type": "code",
   "execution_count": 106,
   "id": "cd7e51f6-109b-483a-9ab6-04deb5b5c24c",
   "metadata": {},
   "outputs": [
    {
     "name": "stdin",
     "output_type": "stream",
     "text": [
      "첫번째 수를 입력하세요:  10\n",
      "두번째 수를 입력하세요:  5\n",
      "세번째 수를 입력하세요:  20\n"
     ]
    },
    {
     "name": "stdout",
     "output_type": "stream",
     "text": [
      "가장 큰 수는 20입니다.\n"
     ]
    }
   ],
   "source": [
    "### 실제 코딩 테스트에 나온 문제 풀어보는 즐거운 코딩 시간\n",
    "\n",
    "# a,b,c 세 정수형 변수\n",
    "# 이 중에서 가장 큰 수(big) 찾아서 출력하기\n",
    "# 사용자 입력을 받으세요 >> input()\n",
    "\n",
    "a = int(input(\"첫번째 수를 입력하세요: \"))\n",
    "b = int(input(\"두번째 수를 입력하세요: \"))\n",
    "c = int(input(\"세번째 수를 입력하세요: \"))\n",
    "\n",
    "# a와 b를 비교 >> =big\n",
    "if (a >= b):\n",
    "    big = a\n",
    "\n",
    "else:\n",
    "    big = b\n",
    "\n",
    "# c와 big 을 비교 >> 더 큰 값 출력\n",
    "if (c >= big):\n",
    "    print(\"가장 큰 수는 %d입니다.\"%c)\n",
    "\n",
    "else:\n",
    "    print(\"가장 큰 수는 %d입니다.\"%big)\n",
    "\n",
    "\n",
    "# 출력결과\n",
    "# 첫번째 수를 입력하세요:\n",
    "# 두번째 수를 입력하세요:\n",
    "# 세번째 수를 입력하세요:\n",
    "# 가장 큰 수는 (숫자)입니다."
   ]
  },
  {
   "cell_type": "code",
   "execution_count": null,
   "id": "451854e0-281c-414f-90cc-cfffd42c3145",
   "metadata": {},
   "outputs": [],
   "source": [
    "def find_largest_number(a, b, c):\n",
    "    big = 0\n",
    "    if a > b:\n",
    "        big = a\n",
    "    elif a == b:\n",
    "        big = a\n",
    "    else:\n",
    "        big = b\n",
    "    if c >= big:\n",
    "        big = c\n",
    "    return big\n",
    "print(\"가장 큰 수를 찾는 프로그램\")\n",
    "print(\"첫번째 수를 입력하시오\")\n",
    "a = int(input())\n",
    "print(\"두번째 수를 입력하시오\")\n",
    "b = int(input())\n",
    "print(\"세번째 수를 입력하시오\")\n",
    "c = int(input())\n",
    "largest_number = find_largest_number(a, b, c)\n",
    "print(f\"가장 큰 수는 {largest_number}입니다.\")"
   ]
  },
  {
   "cell_type": "markdown",
   "id": "268d14f6-b788-4b34-9584-55df97d1099f",
   "metadata": {},
   "source": [
    "반복문"
   ]
  },
  {
   "cell_type": "code",
   "execution_count": 107,
   "id": "f0abf4e8-043d-4383-bb07-2a75bc44bb67",
   "metadata": {},
   "outputs": [
    {
     "name": "stdout",
     "output_type": "stream",
     "text": [
      "python programming\n",
      "python programming\n",
      "python programming\n",
      "python programming\n",
      "python programming\n"
     ]
    }
   ],
   "source": [
    "# for 문\n",
    "\n",
    "for i in range(5):\n",
    "    print(\"python programming\")"
   ]
  },
  {
   "cell_type": "code",
   "execution_count": 113,
   "id": "38787bbb-bee0-452b-8148-19b8fa345ae4",
   "metadata": {},
   "outputs": [
    {
     "name": "stdout",
     "output_type": "stream",
     "text": [
      "i의 값: 1,합계: 1\n",
      "i의 값: 2,합계: 3\n",
      "i의 값: 3,합계: 6\n",
      "i의 값: 4,합계: 10\n",
      "i의 값: 5,합계: 15\n"
     ]
    }
   ],
   "source": [
    "sum = 0 # 초기화\n",
    "\n",
    "for i in range(1,6):\n",
    "    sum = sum + i\n",
    "    print('i의 값: %d,합계: %d'%(i, sum))"
   ]
  },
  {
   "cell_type": "code",
   "execution_count": 114,
   "id": "9086cc21-2271-4c9e-a401-67f7184a7880",
   "metadata": {},
   "outputs": [
    {
     "name": "stdout",
     "output_type": "stream",
     "text": [
      "1 3 5 7 9 "
     ]
    }
   ],
   "source": [
    "for i in range(1, 10, 2):\n",
    "    print(i, end=' ')\n",
    "    # print(i)\n",
    "    # end = ' '  >> 결과값을 한 줄로 공백(' ') 으로 구분하여 출력"
   ]
  },
  {
   "cell_type": "code",
   "execution_count": 116,
   "id": "a35a2434-489b-4239-8b06-f6fcb0f0d5e8",
   "metadata": {},
   "outputs": [
    {
     "name": "stdout",
     "output_type": "stream",
     "text": [
      "m u l t i - c a m p u s "
     ]
    }
   ],
   "source": [
    "for char in \"multi-campus\":\n",
    "    print(char,end=' ')"
   ]
  },
  {
   "cell_type": "code",
   "execution_count": 122,
   "id": "1cf2d784-73ec-46a5-95bf-278dd5711903",
   "metadata": {},
   "outputs": [
    {
     "name": "stdout",
     "output_type": "stream",
     "text": [
      "1 2 3 4 \n",
      "2 4 6 8 \n",
      "3 6 9 12 \n",
      "4 8 12 16 \n"
     ]
    }
   ],
   "source": [
    "# 이중 for 문 (for 문 중첩)\n",
    "\n",
    "for i in range(1,5):\n",
    "    for j in range(1,5):\n",
    "        print(i*j, end=' ')\n",
    "    # print('-'*10)\n",
    "    print()"
   ]
  },
  {
   "cell_type": "code",
   "execution_count": 125,
   "id": "faaa5d41-1565-42ef-a5ed-ce5e8cd6a944",
   "metadata": {},
   "outputs": [
    {
     "name": "stdout",
     "output_type": "stream",
     "text": [
      "2 * 1 = 2\n",
      "2 * 2 = 4\n",
      "2 * 3 = 6\n",
      "2 * 4 = 8\n",
      "2 * 5 = 10\n",
      "2 * 6 = 12\n",
      "2 * 7 = 14\n",
      "2 * 8 = 16\n",
      "2 * 9 = 18\n",
      "********************\n",
      "3 * 1 = 3\n",
      "3 * 2 = 6\n",
      "3 * 3 = 9\n",
      "3 * 4 = 12\n",
      "3 * 5 = 15\n",
      "3 * 6 = 18\n",
      "3 * 7 = 21\n",
      "3 * 8 = 24\n",
      "3 * 9 = 27\n",
      "********************\n",
      "4 * 1 = 4\n",
      "4 * 2 = 8\n",
      "4 * 3 = 12\n",
      "4 * 4 = 16\n",
      "4 * 5 = 20\n",
      "4 * 6 = 24\n",
      "4 * 7 = 28\n",
      "4 * 8 = 32\n",
      "4 * 9 = 36\n",
      "********************\n",
      "5 * 1 = 5\n",
      "5 * 2 = 10\n",
      "5 * 3 = 15\n",
      "5 * 4 = 20\n",
      "5 * 5 = 25\n",
      "5 * 6 = 30\n",
      "5 * 7 = 35\n",
      "5 * 8 = 40\n",
      "5 * 9 = 45\n",
      "********************\n",
      "6 * 1 = 6\n",
      "6 * 2 = 12\n",
      "6 * 3 = 18\n",
      "6 * 4 = 24\n",
      "6 * 5 = 30\n",
      "6 * 6 = 36\n",
      "6 * 7 = 42\n",
      "6 * 8 = 48\n",
      "6 * 9 = 54\n",
      "********************\n",
      "7 * 1 = 7\n",
      "7 * 2 = 14\n",
      "7 * 3 = 21\n",
      "7 * 4 = 28\n",
      "7 * 5 = 35\n",
      "7 * 6 = 42\n",
      "7 * 7 = 49\n",
      "7 * 8 = 56\n",
      "7 * 9 = 63\n",
      "********************\n",
      "8 * 1 = 8\n",
      "8 * 2 = 16\n",
      "8 * 3 = 24\n",
      "8 * 4 = 32\n",
      "8 * 5 = 40\n",
      "8 * 6 = 48\n",
      "8 * 7 = 56\n",
      "8 * 8 = 64\n",
      "8 * 9 = 72\n",
      "********************\n",
      "9 * 1 = 9\n",
      "9 * 2 = 18\n",
      "9 * 3 = 27\n",
      "9 * 4 = 36\n",
      "9 * 5 = 45\n",
      "9 * 6 = 54\n",
      "9 * 7 = 63\n",
      "9 * 8 = 72\n",
      "9 * 9 = 81\n",
      "********************\n"
     ]
    }
   ],
   "source": [
    "# 구구단 출력\n",
    "\n",
    "for i in range(2,10):\n",
    "    for j in range(1,10):\n",
    "        print(\"%d * %d = %d\"%(i, j , i*j))\n",
    "    print('*'*20)"
   ]
  },
  {
   "cell_type": "code",
   "execution_count": 127,
   "id": "3ceb3dc0-9ca5-40a3-83db-fca17fdf9e49",
   "metadata": {},
   "outputs": [
    {
     "name": "stdout",
     "output_type": "stream",
     "text": [
      "2 * 1 = 2 2 * 2 = 4 2 * 3 = 6 2 * 4 = 8 2 * 5 = 10 2 * 6 = 12 2 * 7 = 14 2 * 8 = 16 2 * 9 = 18 \n",
      "3 * 1 = 3 3 * 2 = 6 3 * 3 = 9 3 * 4 = 12 3 * 5 = 15 3 * 6 = 18 3 * 7 = 21 3 * 8 = 24 3 * 9 = 27 \n",
      "4 * 1 = 4 4 * 2 = 8 4 * 3 = 12 4 * 4 = 16 4 * 5 = 20 4 * 6 = 24 4 * 7 = 28 4 * 8 = 32 4 * 9 = 36 \n",
      "5 * 1 = 5 5 * 2 = 10 5 * 3 = 15 5 * 4 = 20 5 * 5 = 25 5 * 6 = 30 5 * 7 = 35 5 * 8 = 40 5 * 9 = 45 \n",
      "6 * 1 = 6 6 * 2 = 12 6 * 3 = 18 6 * 4 = 24 6 * 5 = 30 6 * 6 = 36 6 * 7 = 42 6 * 8 = 48 6 * 9 = 54 \n",
      "7 * 1 = 7 7 * 2 = 14 7 * 3 = 21 7 * 4 = 28 7 * 5 = 35 7 * 6 = 42 7 * 7 = 49 7 * 8 = 56 7 * 9 = 63 \n",
      "8 * 1 = 8 8 * 2 = 16 8 * 3 = 24 8 * 4 = 32 8 * 5 = 40 8 * 6 = 48 8 * 7 = 56 8 * 8 = 64 8 * 9 = 72 \n",
      "9 * 1 = 9 9 * 2 = 18 9 * 3 = 27 9 * 4 = 36 9 * 5 = 45 9 * 6 = 54 9 * 7 = 63 9 * 8 = 72 9 * 9 = 81 \n"
     ]
    }
   ],
   "source": [
    "for i in range(2,10):\n",
    "    for j in range(1,10):\n",
    "        print(\"%d * %d = %d\"%(i, j , i*j), end=' ')\n",
    "    print()   "
   ]
  },
  {
   "cell_type": "code",
   "execution_count": 132,
   "id": "a465bfc1-0c60-47f1-84f9-0b85cf8f59e5",
   "metadata": {},
   "outputs": [
    {
     "name": "stdout",
     "output_type": "stream",
     "text": [
      "2 * 1 = 2 2 * 2 = 4 2 * 3 = 6 2 * 4 = 8 2 * 5 = 10 2 * 6 = 12 2 * 7 = 14 2 * 8 = 16 2 * 9 = 18 \n",
      "3 * 1 = 3 3 * 2 = 6 3 * 3 = 9 3 * 4 = 12 3 * 5 = 15 3 * 6 = 18 3 * 7 = 21 3 * 8 = 24 3 * 9 = 27 \n",
      "4 * 1 = 4 4 * 2 = 8 4 * 3 = 12 4 * 4 = 16 4 * 5 = 20 4 * 6 = 24 4 * 7 = 28 4 * 8 = 32 4 * 9 = 36 \n",
      "5 * 1 = 5 5 * 2 = 10 5 * 3 = 15 5 * 4 = 20 5 * 5 = 25 5 * 6 = 30 5 * 7 = 35 5 * 8 = 40 5 * 9 = 45 \n",
      "6 * 1 = 6 6 * 2 = 12 6 * 3 = 18 6 * 4 = 24 6 * 5 = 30 6 * 6 = 36 6 * 7 = 42 6 * 8 = 48 6 * 9 = 54 \n",
      "7 * 1 = 7 7 * 2 = 14 7 * 3 = 21 7 * 4 = 28 7 * 5 = 35 7 * 6 = 42 7 * 7 = 49 7 * 8 = 56 7 * 9 = 63 \n",
      "8 * 1 = 8 8 * 2 = 16 8 * 3 = 24 8 * 4 = 32 8 * 5 = 40 8 * 6 = 48 8 * 7 = 56 8 * 8 = 64 8 * 9 = 72 \n",
      "9 * 1 = 9 9 * 2 = 18 9 * 3 = 27 9 * 4 = 36 9 * 5 = 45 9 * 6 = 54 9 * 7 = 63 9 * 8 = 72 9 * 9 = 81 \n"
     ]
    }
   ],
   "source": [
    "for i in range(2,10):\n",
    "    for j in range(1,10):\n",
    "        print(\"%d * %d = %d\"%(i,j,i*j),end=' ')\n",
    "    print()"
   ]
  },
  {
   "cell_type": "code",
   "execution_count": 135,
   "id": "b0c1189c-cea7-4ca1-b77f-7aaf5e414fd4",
   "metadata": {},
   "outputs": [
    {
     "name": "stdout",
     "output_type": "stream",
     "text": [
      "multi campus\n",
      "multi campus\n",
      "multi campus\n",
      "multi campus\n",
      "multi campus\n"
     ]
    }
   ],
   "source": [
    "# while 문\n",
    "\n",
    "i = 1\n",
    "while (i <= 5):\n",
    "    print(\"multi campus\")\n",
    "    i += 1 # i = i+1 (정지조건 >> 없으면 무한반복)\n"
   ]
  },
  {
   "cell_type": "code",
   "execution_count": 136,
   "id": "926f4954-3d2f-4a89-b7fb-74230f8cd608",
   "metadata": {},
   "outputs": [
    {
     "name": "stdout",
     "output_type": "stream",
     "text": [
      "i의 값: 1, 합계 : 1 \n",
      "i의 값: 2, 합계 : 3 \n",
      "i의 값: 3, 합계 : 6 \n",
      "i의 값: 4, 합계 : 10 \n",
      "i의 값: 5, 합계 : 15 \n"
     ]
    }
   ],
   "source": [
    "sum = 0\n",
    "i = 1\n",
    "\n",
    "while (i<=5):\n",
    "    sum = sum + i\n",
    "    print(\"i의 값: %d, 합계 : %d \"%(i,sum))\n",
    "    i += 1"
   ]
  },
  {
   "cell_type": "code",
   "execution_count": 141,
   "id": "7bad91c3-633f-483c-b3ba-32bc5b42a86d",
   "metadata": {},
   "outputs": [
    {
     "name": "stdout",
     "output_type": "stream",
     "text": [
      "12\n",
      "t\n",
      "m u l t i   c a m p u s "
     ]
    }
   ],
   "source": [
    "i = 0\n",
    "s = \"multi campus\"\n",
    "print(len(s))\n",
    "print(s[3])\n",
    "\n",
    "while i<= (len(s)-1):\n",
    "    print(s[i],end=' ')\n",
    "    i +=1 # 정지조건"
   ]
  },
  {
   "cell_type": "code",
   "execution_count": 142,
   "id": "dc7ff194-1036-44d5-be5a-ca2f7f891a2a",
   "metadata": {},
   "outputs": [
    {
     "name": "stdout",
     "output_type": "stream",
     "text": [
      "0 1 2 3 4 5 6 7 8 9 "
     ]
    }
   ],
   "source": [
    "i = 0\n",
    "while i < 100:\n",
    "    print(i, end= ' ')\n",
    "    i += 1\n",
    "    if i == 10:\n",
    "        break"
   ]
  },
  {
   "cell_type": "markdown",
   "id": "81c96a9a-8a13-4d90-8c2c-6407e4ac567d",
   "metadata": {},
   "source": [
    "[ 기출 응용 ] 평균 점수 계산"
   ]
  },
  {
   "cell_type": "code",
   "execution_count": 147,
   "id": "f961388f-195e-471d-99ea-3683f1efd7c0",
   "metadata": {},
   "outputs": [
    {
     "name": "stdout",
     "output_type": "stream",
     "text": [
      "723\n",
      "평균은 72.30입니다\n"
     ]
    }
   ],
   "source": [
    "# for 문 활용\n",
    "\n",
    "a = [70,60,55,95,80,70,85,47,83,78]\n",
    "\n",
    "sum = 0\n",
    "avg = 0\n",
    "\n",
    "for i in a:\n",
    "    sum = sum + i\n",
    "\n",
    "avg = sum / len(a)\n",
    "\n",
    "print(sum)\n",
    "print(\"평균은 %.2f입니다\"%avg)"
   ]
  },
  {
   "cell_type": "code",
   "execution_count": 157,
   "id": "cb66fd0b-15fc-496b-8f74-7d4b8576e558",
   "metadata": {
    "scrolled": true
   },
   "outputs": [
    {
     "name": "stdout",
     "output_type": "stream",
     "text": [
      "723\n",
      "72.3\n"
     ]
    }
   ],
   "source": [
    "# while 문\n",
    "\n",
    "a = [70,60,55,95,80,70,85,47,83,78]\n",
    "\n",
    "sum = 0\n",
    "avg = 0\n",
    "\n",
    "i = 0\n",
    "while (i < len(a)):\n",
    "    sum = sum + a[i]\n",
    "    i += 1\n",
    "    \n",
    "avg = sum/len(a)\n",
    "print(sum)\n",
    "print(avg)"
   ]
  },
  {
   "cell_type": "markdown",
   "id": "40f90f17-c0f0-4687-aa35-6c0ce78abb0b",
   "metadata": {},
   "source": [
    "리스트(List)"
   ]
  },
  {
   "cell_type": "code",
   "execution_count": 2,
   "id": "c74b3655-3b21-4020-8421-533c68dd8185",
   "metadata": {},
   "outputs": [],
   "source": [
    "a = []\n",
    "b = [1,2,3]\n",
    "c = ['사과','오렌지','딸기','포도','바나나']\n",
    "d = [1,2,'python','programming']"
   ]
  },
  {
   "cell_type": "code",
   "execution_count": 3,
   "id": "a7f64c27-9217-46d0-91b5-96a8f51ceb9e",
   "metadata": {},
   "outputs": [
    {
     "name": "stdout",
     "output_type": "stream",
     "text": [
      "[]\n"
     ]
    }
   ],
   "source": [
    "print(a)"
   ]
  },
  {
   "cell_type": "code",
   "execution_count": 8,
   "id": "1c066f76-36d5-4b24-9cab-9439e4f44793",
   "metadata": {},
   "outputs": [
    {
     "name": "stdout",
     "output_type": "stream",
     "text": [
      "[1, 2, 3, 4, 5, 6, 7, 8]\n",
      "[1, 2, 3, 4, 1, 2, 3, 4, 1, 2, 3, 4]\n"
     ]
    }
   ],
   "source": [
    "# 리스트의 더하기와 곱하기\n",
    "# 특징 : 더하면 연장, 곱하면 반복\n",
    "\n",
    "a = [1,2,3,4]\n",
    "b = [5,6,7,8]\n",
    "\n",
    "# print(a,b)\n",
    "\n",
    "print(a + b) # 리스트를 합친다\n",
    "print(a * 3) # 리스트끼리는 곱하기가 안된다 # list a를 3번 반복해줘"
   ]
  },
  {
   "cell_type": "code",
   "execution_count": 16,
   "id": "c4384a7b-37f3-4c45-be6d-0f8bb3d797b3",
   "metadata": {},
   "outputs": [
    {
     "name": "stdout",
     "output_type": "stream",
     "text": [
      "['a', 'b', 'c', 'd']\n"
     ]
    }
   ],
   "source": [
    "# 리스트 원소 추가 >> append() , insert()\n",
    "# append() : 리스트의 마지막에 원소를 추가\n",
    "# insert() : 특정 인덱스에 원소를 추가\n",
    "\n",
    "b = ['a','b','c']\n",
    "b.append('d')\n",
    "print(b)"
   ]
  },
  {
   "cell_type": "code",
   "execution_count": 18,
   "id": "b5fa175d-2a3d-42e9-a460-cc64a23fc441",
   "metadata": {},
   "outputs": [
    {
     "name": "stdout",
     "output_type": "stream",
     "text": [
      "['a', 'b', 'c', 'e', 'e', 'd']\n"
     ]
    }
   ],
   "source": [
    "b.insert(-1,'e') # insert (특정 인덱스,삽입할 값)\n",
    "print(b)"
   ]
  },
  {
   "cell_type": "code",
   "execution_count": 20,
   "id": "5691046d-a2b2-484b-abf1-debbc5455fe9",
   "metadata": {},
   "outputs": [
    {
     "name": "stdout",
     "output_type": "stream",
     "text": [
      "['a', 'b', 'r']\n"
     ]
    }
   ],
   "source": [
    "# 리스트의 원소 수정과 삭제\n",
    "\n",
    "c = ['a','b','c'] # 리스트 원소 수정(값 변경)\n",
    "c[-1] = 'r'\n",
    "print(c)"
   ]
  },
  {
   "cell_type": "code",
   "execution_count": 22,
   "id": "c04d0921-289b-4c57-a46d-0f351a84c233",
   "metadata": {},
   "outputs": [
    {
     "name": "stdout",
     "output_type": "stream",
     "text": [
      "['r']\n"
     ]
    }
   ],
   "source": [
    "del c[0] # 리스트 원소 삭제\n",
    "print(c)"
   ]
  },
  {
   "cell_type": "code",
   "execution_count": 23,
   "id": "06a945ca-f366-45a7-8508-4e90601b4a4b",
   "metadata": {},
   "outputs": [
    {
     "name": "stdout",
     "output_type": "stream",
     "text": [
      "['e', 'd', 'c', 'b', 'a']\n"
     ]
    }
   ],
   "source": [
    "# reverse() : 리스트의 원소의 순서를 역순으로 배열\n",
    "a = ['a','b','c','d','e']\n",
    "a.reverse()\n",
    "print(a)"
   ]
  },
  {
   "cell_type": "code",
   "execution_count": 27,
   "id": "6297c97f-5cee-4b96-aea7-49ba767ea21d",
   "metadata": {},
   "outputs": [
    {
     "name": "stdout",
     "output_type": "stream",
     "text": [
      "['e', 'd', 'c', 'b', 'a']\n",
      "['a', 'b', 'c', 'd', 'e']\n"
     ]
    }
   ],
   "source": [
    "a = ['a','b','c','d','e']\n",
    "b = list(reversed(a))\n",
    "print(b)\n",
    "print(a)"
   ]
  },
  {
   "cell_type": "code",
   "execution_count": 69,
   "id": "0b52dec3-a6ba-4c19-92ea-29e434c7090b",
   "metadata": {},
   "outputs": [
    {
     "data": {
      "text/plain": [
       "['e', 'd', 'c', 'b', 'a']"
      ]
     },
     "execution_count": 69,
     "metadata": {},
     "output_type": "execute_result"
    }
   ],
   "source": [
    "# 슬라이싱 역순 만들어 보세요\n",
    "a = ['a','b','c','d','e']\n",
    "\n",
    "a[len(a)::-1]"
   ]
  },
  {
   "cell_type": "code",
   "execution_count": 32,
   "id": "521f8086-043c-4176-99b0-beb9a408119d",
   "metadata": {},
   "outputs": [
    {
     "name": "stdout",
     "output_type": "stream",
     "text": [
      "['a', 'b', 'c', 'd', 'e']\n",
      "4\n"
     ]
    }
   ],
   "source": [
    "# index(x) : 원소 x가 위치한 인덱스 값 반환(없으면 에러 발생)\n",
    "\n",
    "print(a)\n",
    "print(a.index('e'))\n",
    "# a.index('f') # value error 발생"
   ]
  },
  {
   "cell_type": "code",
   "execution_count": 33,
   "id": "3f5bd3c5-d885-47bb-bad1-ade50c4a34ef",
   "metadata": {},
   "outputs": [
    {
     "data": {
      "text/plain": [
       "['a', 'b', 'c', 'd', 'e']"
      ]
     },
     "execution_count": 33,
     "metadata": {},
     "output_type": "execute_result"
    }
   ],
   "source": [
    "# sort() : 리스트의 원소를 오름차순(default) 정렬\n",
    "d = ['e','d','c','b','a']\n",
    "d.sort()\n",
    "d"
   ]
  },
  {
   "cell_type": "code",
   "execution_count": 42,
   "id": "0a04de0e-7796-482e-a35b-1aaa99675d1d",
   "metadata": {},
   "outputs": [
    {
     "name": "stdout",
     "output_type": "stream",
     "text": [
      "['e', 'd', 'c', 'b', 'a']\n",
      "['a', 'b', 'c', 'd', 'e']\n"
     ]
    }
   ],
   "source": [
    "d = ['e','d','c','b','a']\n",
    "e = sorted(d)\n",
    "print(d)\n",
    "print(e)"
   ]
  },
  {
   "cell_type": "code",
   "execution_count": 44,
   "id": "90877289-184e-4526-b45f-b05c0817442f",
   "metadata": {},
   "outputs": [
    {
     "data": {
      "text/plain": [
       "1"
      ]
     },
     "execution_count": 44,
     "metadata": {},
     "output_type": "execute_result"
    }
   ],
   "source": [
    "# count(x) : 리스트의 원소 x값 개수를 셈\n",
    "\n",
    "d.count('a')"
   ]
  },
  {
   "cell_type": "code",
   "execution_count": 55,
   "id": "5efd59d5-1d8b-453f-94a7-1db08c685e93",
   "metadata": {},
   "outputs": [
    {
     "data": {
      "text/plain": [
       "3"
      ]
     },
     "execution_count": 55,
     "metadata": {},
     "output_type": "execute_result"
    }
   ],
   "source": [
    "e = [10,20,30,40,20,20]\n",
    "\n",
    "e.count(20)"
   ]
  },
  {
   "cell_type": "code",
   "execution_count": 56,
   "id": "99123ba1-6279-49d1-99df-4f0b0be4629a",
   "metadata": {},
   "outputs": [
    {
     "name": "stdout",
     "output_type": "stream",
     "text": [
      "[10, 20, 30, 40, 20, 20]\n",
      "[10, 30, 40, 20, 20]\n"
     ]
    }
   ],
   "source": [
    "# remove(x) : 리스트에서 [첫번째로 나오는] x값 삭제 \n",
    "\n",
    "print(e) # 변경 전\n",
    "\n",
    "e.remove(20)\n",
    "print(e)"
   ]
  },
  {
   "cell_type": "code",
   "execution_count": 59,
   "id": "f2a9990b-f92f-4339-a523-69f5ce12788f",
   "metadata": {},
   "outputs": [
    {
     "name": "stdout",
     "output_type": "stream",
     "text": [
      "a b c "
     ]
    }
   ],
   "source": [
    "# 반복문에서 리스트 활용\n",
    "\n",
    "a = ['a','b','c']\n",
    "\n",
    "for i in a:\n",
    "    # print(i)\n",
    "    print(i,end=' ' )"
   ]
  },
  {
   "cell_type": "markdown",
   "id": "c7d51dc4-d421-480d-9ed3-e3c3befeec24",
   "metadata": {},
   "source": [
    "2차원 리스트 (중첩 리스트)"
   ]
  },
  {
   "cell_type": "code",
   "execution_count": 63,
   "id": "c4a58187-9807-4f95-b226-6c28e7230bfc",
   "metadata": {},
   "outputs": [],
   "source": [
    "# 예) 학생 5명, 중간, 기말 시험 점수를 2차원 리스트로 표현해줘\n",
    "scores = [[70,75],[80,80],[70,80],[95,85],[100,80]]\n",
    "\n",
    "# 추가 설명 : 성적 평점기준(출석 10%, 중간 30%, 기말 40%,과제 20%)\n",
    "# [[8,25,35,15],[.....],[.....]]"
   ]
  },
  {
   "cell_type": "code",
   "execution_count": 65,
   "id": "b5a28b0e-31e7-4f08-b0a7-c079c5fad429",
   "metadata": {},
   "outputs": [
    {
     "name": "stdout",
     "output_type": "stream",
     "text": [
      "[70, 80]\n"
     ]
    },
    {
     "data": {
      "text/plain": [
       "70"
      ]
     },
     "execution_count": 65,
     "metadata": {},
     "output_type": "execute_result"
    }
   ],
   "source": [
    "# 3번째 학생의 중간고사 성적\n",
    "print(scores[2])\n",
    "scores[2][0]"
   ]
  },
  {
   "cell_type": "markdown",
   "id": "dbd56ec4-f702-4d38-8df4-83752935888e",
   "metadata": {},
   "source": [
    "튜플과 딕셔너리"
   ]
  },
  {
   "cell_type": "code",
   "execution_count": 73,
   "id": "430a3390-7da0-4d18-80f2-14edfe6293c1",
   "metadata": {},
   "outputs": [
    {
     "name": "stdout",
     "output_type": "stream",
     "text": [
      "a\n",
      "('a', 'b', 'c', 'd')\n",
      "('a', 'b', 'c', 'd', 'e', 'a', 'b', 'c', 'd', 'e')\n",
      "5\n"
     ]
    }
   ],
   "source": [
    "# 튜플(tuple) (immutable)\n",
    "\n",
    "t = ('a','b','c','d','e')\n",
    "\n",
    "print(t[0]) # indexing\n",
    "print(t[:-1]) # slicing\n",
    "print(t * 2) # 곱하기 >> 반복\n",
    "print(len(t))"
   ]
  },
  {
   "cell_type": "code",
   "execution_count": 80,
   "id": "f1e8f541-a67a-4cdc-83cf-0032c17942b0",
   "metadata": {},
   "outputs": [
    {
     "name": "stdout",
     "output_type": "stream",
     "text": [
      "a\n",
      "python\n"
     ]
    }
   ],
   "source": [
    "# 딕셔너리\n",
    "\n",
    "dic1 = {1:'a',2:'b',3:'c'}\n",
    "dic2 = {'name':'python','age':30,'job':'dessa'}\n",
    "\n",
    "print(dic1[1]) # 1 : key >> dic[1] >> value 값이 'a' 출력\n",
    "print(dic2['name'])"
   ]
  },
  {
   "cell_type": "code",
   "execution_count": 81,
   "id": "9e92becd-49a9-4faa-8365-f6c9a7549992",
   "metadata": {},
   "outputs": [
    {
     "name": "stdout",
     "output_type": "stream",
     "text": [
      "{1: 'a', 2: 'b', 3: 'c', 4: 'd'}\n"
     ]
    }
   ],
   "source": [
    "# 딕셔너리 요소 값 추가\n",
    "dic1[4] = 'd'\n",
    "\n",
    "print(dic1)"
   ]
  },
  {
   "cell_type": "code",
   "execution_count": 82,
   "id": "98cf5134-3025-4229-a264-a9611cc641e4",
   "metadata": {},
   "outputs": [
    {
     "name": "stdout",
     "output_type": "stream",
     "text": [
      "{'name': 'python', 'age': 30, 'job': 'dessa', 'hobby': 'piano'}\n"
     ]
    }
   ],
   "source": [
    "dic2['hobby'] = 'piano'\n",
    "\n",
    "print(dic2)"
   ]
  },
  {
   "cell_type": "markdown",
   "id": "f69cd6b5-fce7-4993-a7a1-3b9873a9e681",
   "metadata": {},
   "source": [
    "딕셔너리 관련 함수"
   ]
  },
  {
   "cell_type": "code",
   "execution_count": 83,
   "id": "d802f6ba-c05a-4651-89d2-e2535c26096d",
   "metadata": {},
   "outputs": [
    {
     "name": "stdout",
     "output_type": "stream",
     "text": [
      "dict_keys(['name', 'age', 'job'])\n"
     ]
    }
   ],
   "source": [
    "dic1 = {1:'a',2:'b',3:'c'}\n",
    "dic2 = {'name':'python','age':30,'job':'dessa'}\n",
    "\n",
    "\n",
    "print(dic2.keys())"
   ]
  },
  {
   "cell_type": "code",
   "execution_count": 85,
   "id": "27b20ebc-efad-4d29-b070-776d35606f1c",
   "metadata": {},
   "outputs": [
    {
     "name": "stdout",
     "output_type": "stream",
     "text": [
      "dict_values(['python', 30, 'dessa'])\n"
     ]
    }
   ],
   "source": [
    "print(dic2.values())"
   ]
  },
  {
   "cell_type": "code",
   "execution_count": 87,
   "id": "658da972-ad5e-4670-a4a8-b630c4873abf",
   "metadata": {},
   "outputs": [
    {
     "name": "stdout",
     "output_type": "stream",
     "text": [
      "dict_items([('name', 'python'), ('age', 30), ('job', 'dessa')])\n"
     ]
    }
   ],
   "source": [
    "print(dic2.items()) # (k,v) 묶어서 tuple 형태로"
   ]
  },
  {
   "cell_type": "code",
   "execution_count": 88,
   "id": "21f26dac-4984-48f4-938f-55295fa1ea7f",
   "metadata": {},
   "outputs": [
    {
     "name": "stdout",
     "output_type": "stream",
     "text": [
      "30\n"
     ]
    }
   ],
   "source": [
    "if 'age' in dic2:\n",
    "    print(dic2.get('age'))"
   ]
  },
  {
   "cell_type": "code",
   "execution_count": 90,
   "id": "462afe05-9d09-4bb4-b4f4-13bf6a80d10b",
   "metadata": {},
   "outputs": [
    {
     "name": "stdout",
     "output_type": "stream",
     "text": [
      "None\n"
     ]
    }
   ],
   "source": [
    "if 'age' in dic2:\n",
    "    print(dic2.get('address')) # .get 없으면 None"
   ]
  },
  {
   "cell_type": "markdown",
   "id": "9547dc77-a5ae-4c64-99bc-0fcc957626bc",
   "metadata": {},
   "source": [
    "해 보세요.\n",
    "\n",
    "- 3명의 회원 정보(id, password) : dictionary 정의할 것\n",
    "- 사용자로부터 id,password 입력받아서 일치 여부 판단 프로그램\n",
    "\n",
    "    - 회원1 id: multi pw: 1234\n",
    "    - 회원2 id: drwill pw: 7777\n",
    "    - 회원3 id: dessa pw:8888"
   ]
  },
  {
   "cell_type": "code",
   "execution_count": 1,
   "id": "af00072e-0b14-4bff-a80c-141ab6ccd726",
   "metadata": {},
   "outputs": [
    {
     "name": "stdin",
     "output_type": "stream",
     "text": [
      "사용자 아이디를 입력해 주세요:  a\n",
      "사용자 패스워드를 입력해 주세요(단, 숫자로 입력해주세요):  12\n"
     ]
    },
    {
     "name": "stdout",
     "output_type": "stream",
     "text": [
      "아이디가 존재하지 않습니다.\n"
     ]
    }
   ],
   "source": [
    "id_pw = {'multi':1234,'drwill':7777,'dessa':8888}\n",
    "\n",
    "# HINT (if~else 사용해보세요)\n",
    "\n",
    "id = input(\"사용자 아이디를 입력해 주세요: \")\n",
    "pw = int(input(\"사용자 패스워드를 입력해 주세요(단, 숫자로 입력해주세요): \"))\n",
    "\n",
    "if id in id_pw:\n",
    "    if pw == id_pw.get(id):\n",
    "        print(\"아이디와 비밀번호가 일치합니다.\")\n",
    "    else:\n",
    "        print(\"비밀번호가 틀립니다.\")\n",
    "        \n",
    "else:\n",
    "    print(\"아이디가 존재하지 않습니다.\")"
   ]
  },
  {
   "cell_type": "markdown",
   "id": "84d2108e-4fcc-48bb-a4c1-d7f9caad00d3",
   "metadata": {},
   "source": [
    "함수와 라이브러리(모듈, 패키지)"
   ]
  },
  {
   "cell_type": "code",
   "execution_count": 2,
   "id": "11bf5539-8aa2-4e0d-943b-03e6ec1864f0",
   "metadata": {},
   "outputs": [],
   "source": [
    "def sum(x,y):\n",
    "    return x+y"
   ]
  },
  {
   "cell_type": "code",
   "execution_count": 3,
   "id": "6d4f804f-f985-4539-880e-fe4124f292f2",
   "metadata": {},
   "outputs": [],
   "source": [
    "# 주어진 수의 홀짝 판단하기\n",
    "\n",
    "def 홀짝(x):\n",
    "    if x %2 == 0 :   # 2로 나눠서 나머지가 0 >> 짝수\n",
    "        return (\"짝수\")\n",
    "    else:\n",
    "        return(\"홀수\")"
   ]
  },
  {
   "cell_type": "code",
   "execution_count": 5,
   "id": "e83e7258-206a-4226-a29b-a9359f8103f7",
   "metadata": {},
   "outputs": [
    {
     "data": {
      "text/plain": [
       "'홀수'"
      ]
     },
     "execution_count": 5,
     "metadata": {},
     "output_type": "execute_result"
    }
   ],
   "source": [
    "홀짝(41)"
   ]
  },
  {
   "cell_type": "code",
   "execution_count": 6,
   "id": "b075582f-e537-4838-9269-11b6eca7004b",
   "metadata": {},
   "outputs": [
    {
     "name": "stdin",
     "output_type": "stream",
     "text": [
      "숫자를 입력해 주세요(단, 정수로 입력해줘요):  41\n"
     ]
    },
    {
     "name": "stdout",
     "output_type": "stream",
     "text": [
      "41은 <function 홀짝 at 0x000002023ADBA340>입니다.\n"
     ]
    }
   ],
   "source": [
    "x = int(input(\"숫자를 입력해 주세요(단, 정수로 입력해줘요): \"))\n",
    "print(\"%d은 %s입니다.\"%(x , 홀짝))"
   ]
  },
  {
   "cell_type": "code",
   "execution_count": 9,
   "id": "b1276330-f74d-48fc-b3bd-ee4b66ebb2f1",
   "metadata": {},
   "outputs": [
    {
     "name": "stdin",
     "output_type": "stream",
     "text": [
      "숫자를 입력해주세요:  12\n"
     ]
    },
    {
     "name": "stdout",
     "output_type": "stream",
     "text": [
      "짝수입니다.\n",
      "12는 None입니다.\n"
     ]
    }
   ],
   "source": [
    "\n",
    "n = int(input(\"숫자를 입력해주세요: \"))\n",
    "\n",
    "\n",
    "def 홀짝(n):\n",
    "    if n%2 == 0:\n",
    "        print(\"짝수입니다.\")\n",
    "    else:\n",
    "        print(\"홀수입니다.\")\n",
    "\n",
    "print(\"%d는 %s입니다.\"%(n , 홀짝(n)))"
   ]
  },
  {
   "cell_type": "code",
   "execution_count": 11,
   "id": "bef2c8cf-bfbc-4af8-ac01-627bc6b43bde",
   "metadata": {},
   "outputs": [
    {
     "name": "stdin",
     "output_type": "stream",
     "text": [
      "첫번째 숫자를 입력하세요(반드시 숫자입력이에요.) 78\n",
      "두번째 숫자를 입력하세요(반드시 숫자입력이에요.) 456\n"
     ]
    },
    {
     "name": "stdout",
     "output_type": "stream",
     "text": [
      "두 수의 곱은 35568입니다.\n"
     ]
    }
   ],
   "source": [
    "# 주어진 두 수 곱하는 함수\n",
    "\n",
    "def multi(x,y):\n",
    "    mul = x*y\n",
    "    return mul\n",
    "\n",
    "x = int(input(\"첫번째 숫자를 입력하세요(반드시 숫자입력이에요.)\"))\n",
    "y = int(input(\"두번째 숫자를 입력하세요(반드시 숫자입력이에요.)\"))\n",
    "\n",
    "print(\"두 수의 곱은 %d입니다.\"% multi(x,y))"
   ]
  },
  {
   "cell_type": "code",
   "execution_count": 12,
   "id": "50330320-2256-4fa8-9b47-dd01ac51e8c1",
   "metadata": {},
   "outputs": [
    {
     "name": "stdin",
     "output_type": "stream",
     "text": [
      "첫번째수를 입력하세요. 12\n",
      "두번째수를 입력하세요. 5\n"
     ]
    },
    {
     "name": "stdout",
     "output_type": "stream",
     "text": [
      "12와 5의 곱은 60입니다.\n"
     ]
    }
   ],
   "source": [
    "def multi(x,y):\n",
    "    mul = x*y\n",
    "    return mul\n",
    "\n",
    "x = int(input(\"첫번째수를 입력하세요.\"))\n",
    "y = int(input(\"두번째수를 입력하세요.\"))\n",
    "\n",
    "print(\"%d와 %d의 곱은 %d입니다.\"%(x,y,multi(x,y)))"
   ]
  },
  {
   "cell_type": "code",
   "execution_count": null,
   "id": "f23ee5a0-e271-4607-8085-d53c9ebef873",
   "metadata": {},
   "outputs": [],
   "source": []
  }
 ],
 "metadata": {
  "kernelspec": {
   "display_name": "Python 3 (ipykernel)",
   "language": "python",
   "name": "python3"
  },
  "language_info": {
   "codemirror_mode": {
    "name": "ipython",
    "version": 3
   },
   "file_extension": ".py",
   "mimetype": "text/x-python",
   "name": "python",
   "nbconvert_exporter": "python",
   "pygments_lexer": "ipython3",
   "version": "3.11.7"
  }
 },
 "nbformat": 4,
 "nbformat_minor": 5
}
