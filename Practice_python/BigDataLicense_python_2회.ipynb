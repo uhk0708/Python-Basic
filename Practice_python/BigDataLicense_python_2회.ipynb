{
 "cells": [
  {
   "cell_type": "markdown",
   "id": "71ce7bbd-75dd-42a6-a054-8c36470f59f9",
   "metadata": {},
   "source": [
    "파이썬 자료형"
   ]
  },
  {
   "cell_type": "code",
   "execution_count": 1,
   "id": "635f3422-3393-4e49-b056-dd70672029df",
   "metadata": {},
   "outputs": [
    {
     "name": "stdout",
     "output_type": "stream",
     "text": [
      "1234 -12.24\n",
      "<class 'int'> <class 'float'>\n",
      "1221.76\n",
      "<class 'float'>\n"
     ]
    }
   ],
   "source": [
    "# 숫자형\n",
    "\n",
    "a = 1234\n",
    "b = -12.24\n",
    "c = a+b\n",
    "print(a,b)\n",
    "print(type(a), type(b))\n",
    "print(c)\n",
    "print(type(c))\n",
    "\n",
    "# int + float 계산 결과 >> float (더 큰 범위로 자동 수정됨)"
   ]
  },
  {
   "cell_type": "code",
   "execution_count": 2,
   "id": "f76e060c-8890-4d63-903d-079a406626c7",
   "metadata": {},
   "outputs": [
    {
     "name": "stdout",
     "output_type": "stream",
     "text": [
      "10\n",
      "-4\n",
      "21\n",
      "0.42857142857142855\n",
      "2187\n",
      "0\n",
      "3\n"
     ]
    }
   ],
   "source": [
    "# 사칙연산\n",
    "\n",
    "a = 3\n",
    "b = 7\n",
    "\n",
    "# 사칙연산\n",
    "print(a+b)\n",
    "print(a-b)\n",
    "print(a*b)\n",
    "print(a/b)\n",
    "\n",
    "\n",
    "print(a**b)\n",
    "\n",
    "# 몫과 나머지\n",
    "print(a//b)\n",
    "print(a%b)"
   ]
  },
  {
   "cell_type": "code",
   "execution_count": 3,
   "id": "a73e5870-7723-4e20-b7dc-1cb4e0cac602",
   "metadata": {},
   "outputs": [],
   "source": [
    "# 문자열 자료형\n",
    "\n",
    "a = \"hello mulcam\"\n",
    "b = \"hello everyone\"\n",
    "c = '\"hello!\",Dr.ill say'\n",
    "d = 'hello mulcam\\nlife is so good'"
   ]
  },
  {
   "cell_type": "code",
   "execution_count": 4,
   "id": "9ae13f8f-0105-4ad3-a869-a1143ef67960",
   "metadata": {},
   "outputs": [
    {
     "name": "stdout",
     "output_type": "stream",
     "text": [
      "hello mulcam\n",
      "hello everyone\n",
      "\"hello!\",Dr.ill say\n",
      "hello mulcam\n",
      "life is so good\n"
     ]
    }
   ],
   "source": [
    "print(a)\n",
    "print(b)\n",
    "print(c)\n",
    "print(d)"
   ]
  },
  {
   "cell_type": "markdown",
   "id": "69dba0f4-47b6-4509-b595-2ceddb96f15b",
   "metadata": {},
   "source": [
    "문자열 더하기와 곱하기"
   ]
  },
  {
   "cell_type": "code",
   "execution_count": 5,
   "id": "fcb81729-05d7-4f4c-89da-cf33c5cc425f",
   "metadata": {},
   "outputs": [
    {
     "name": "stdout",
     "output_type": "stream",
     "text": [
      "multi campus\n"
     ]
    }
   ],
   "source": [
    "# 문자열 더하기\n",
    "\n",
    "a = \"multi\"\n",
    "b = \" \" # 공백도 문자열\n",
    "c = \"campus\"\n",
    "\n",
    "print(a+b+c)\n",
    "# 문자 + 문자 >> 확장"
   ]
  },
  {
   "cell_type": "code",
   "execution_count": 6,
   "id": "f0bef240-ef4d-41f2-9da9-d7224a89fc51",
   "metadata": {},
   "outputs": [
    {
     "name": "stdout",
     "output_type": "stream",
     "text": [
      "python python python python python \n"
     ]
    }
   ],
   "source": [
    "# 문자열 곱하기\n",
    "\n",
    "a = \"python \"\n",
    "\n",
    "print(a*5)\n",
    "# 문자 곱하기 >> 반복"
   ]
  },
  {
   "cell_type": "code",
   "execution_count": 7,
   "id": "f54e0ce6-b0b0-4e5a-9134-dcc550da5d65",
   "metadata": {},
   "outputs": [
    {
     "data": {
      "text/plain": [
       "7"
      ]
     },
     "execution_count": 7,
     "metadata": {},
     "output_type": "execute_result"
    }
   ],
   "source": [
    "# 문자열 길이 구하기\n",
    "\n",
    "len(a)"
   ]
  },
  {
   "cell_type": "code",
   "execution_count": 8,
   "id": "249aac80-c51f-434a-9626-1055512a281b",
   "metadata": {},
   "outputs": [
    {
     "name": "stdout",
     "output_type": "stream",
     "text": [
      "L\n",
      "활용도\n",
      "쉽고, 가독성이 좋아서\n"
     ]
    }
   ],
   "source": [
    "# 문자열 인덱싱과 슬라이싱\n",
    "\n",
    "life_ = \"Life is short, Python is valueable\"\n",
    "shp = \"활용도가 높아서\"\n",
    "l_y = '다른 코딩 들보다 쉽고, 가독성이 좋아서'\n",
    "\n",
    "\n",
    "# 문자열 인덱싱\n",
    "print(life_[0])\n",
    "\n",
    "\n",
    "# 문자열 슬라이싱\n",
    "print(shp[:3])\n",
    "print(l_y[-12:])"
   ]
  },
  {
   "cell_type": "code",
   "execution_count": 9,
   "id": "58190219-b595-4c75-9fcf-fc25e4a17cc5",
   "metadata": {},
   "outputs": [
    {
     "name": "stdout",
     "output_type": "stream",
     "text": [
      "1\n",
      "2\n"
     ]
    }
   ],
   "source": [
    "# 문자 개수 세기 : 몇 번 나왔니\n",
    "print(l_y.count('가독성'))\n",
    "print(life_.count('is'))"
   ]
  },
  {
   "cell_type": "code",
   "execution_count": 10,
   "id": "3c05e282-1560-4856-93ca-d05edd1c4777",
   "metadata": {},
   "outputs": [
    {
     "data": {
      "text/plain": [
       "3"
      ]
     },
     "execution_count": 10,
     "metadata": {},
     "output_type": "execute_result"
    }
   ],
   "source": [
    "# 문자 위치 찾기\n",
    "\n",
    "l_y.find('코딩')"
   ]
  },
  {
   "cell_type": "code",
   "execution_count": 11,
   "id": "fe028df7-9a8b-45ce-90c8-b67ac643a3f6",
   "metadata": {},
   "outputs": [
    {
     "name": "stdout",
     "output_type": "stream",
     "text": [
      "활용도가 높아서\n"
     ]
    },
    {
     "data": {
      "text/plain": [
       "'활/용/도/가/ /높/아/서'"
      ]
     },
     "execution_count": 11,
     "metadata": {},
     "output_type": "execute_result"
    }
   ],
   "source": [
    "# 문자열 삽입\n",
    "print(shp)\n",
    "\n",
    "'/'.join(shp)"
   ]
  },
  {
   "cell_type": "markdown",
   "id": "016e4e3e-15b4-416e-9b04-83950d9ef848",
   "metadata": {},
   "source": [
    "소문자와 대문자"
   ]
  },
  {
   "cell_type": "code",
   "execution_count": 12,
   "id": "659f220d-f925-4e52-86ee-da9e8151464c",
   "metadata": {},
   "outputs": [
    {
     "name": "stdout",
     "output_type": "stream",
     "text": [
      "APPLE\n",
      "apple\n"
     ]
    }
   ],
   "source": [
    "a = 'apple'\n",
    "b = a.upper()\n",
    "c = a.lower()\n",
    "\n",
    "print(b)\n",
    "print(c)"
   ]
  },
  {
   "cell_type": "code",
   "execution_count": 13,
   "id": "11efdb7b-3c81-46ea-9532-0d2cc538d4da",
   "metadata": {},
   "outputs": [
    {
     "name": "stdout",
     "output_type": "stream",
     "text": [
      "                 다른 코딩 들보다 쉽고, 가독성이 좋아서                 \n",
      "다른 코딩 들보다 쉽고, 가독성이 좋아서\n",
      "다른 코딩 들보다 쉽고, 가독성이 좋아서                 \n",
      "                 다른 코딩 들보다 쉽고, 가독성이 좋아서\n"
     ]
    }
   ],
   "source": [
    "# 공백 지우기(***)\n",
    "\n",
    "l_y = '                 다른 코딩 들보다 쉽고, 가독성이 좋아서                 '\n",
    "\n",
    "strip_ = l_y.strip()\n",
    "lstrip_ = l_y.lstrip()\n",
    "rstrip_ = l_y.rstrip()\n",
    "\n",
    "print(l_y)\n",
    "print(strip_)\n",
    "print(lstrip_)\n",
    "print(rstrip_)"
   ]
  },
  {
   "cell_type": "code",
   "execution_count": 14,
   "id": "5ebf8dc9-b25e-4a38-8840-f7a39e7fdc8a",
   "metadata": {},
   "outputs": [
    {
     "name": "stdout",
     "output_type": "stream",
     "text": [
      "Life is short, Python is valueable\n",
      "Life is short, Study is valueable\n"
     ]
    }
   ],
   "source": [
    "# 문자열 바꾸기 (***)\n",
    "\n",
    "print(life_)\n",
    "\n",
    "study_ = life_.replace('Python', 'Study')\n",
    "\n",
    "print(study_)"
   ]
  },
  {
   "cell_type": "code",
   "execution_count": 15,
   "id": "5017f177-bd1e-490e-a06c-88ae77c0949e",
   "metadata": {},
   "outputs": [
    {
     "name": "stdout",
     "output_type": "stream",
     "text": [
      "Life is short, Study is valueable\n",
      "['Life', 'is', 'short,', 'Study', 'is', 'valueable']\n",
      "['Life is short', ' Study is valueable']\n"
     ]
    }
   ],
   "source": [
    "# 문자열 나누기(****)\n",
    "\n",
    "print(study_)\n",
    "spl = study_.split() # 공백 기준 나누기\n",
    "spl_jum = study_.split(',') # '.' 기준 나누기\n",
    "\n",
    "print(spl)\n",
    "print(spl_jum)"
   ]
  },
  {
   "cell_type": "code",
   "execution_count": 16,
   "id": "bc7479ce-285c-4e96-9218-4416b64ca6ad",
   "metadata": {},
   "outputs": [
    {
     "data": {
      "text/plain": [
       "'Study is valueable'"
      ]
     },
     "execution_count": 16,
     "metadata": {},
     "output_type": "execute_result"
    }
   ],
   "source": [
    "# 추가적으로 데이터 정제\n",
    "spl_jum\n",
    "spl_jum[1]\n",
    "spl_jum[1].strip()"
   ]
  },
  {
   "cell_type": "code",
   "execution_count": 17,
   "id": "e8ef7c51-017c-4d30-af02-ba5b8f55103b",
   "metadata": {},
   "outputs": [
    {
     "data": {
      "text/plain": [
       "'Study is valueable'"
      ]
     },
     "execution_count": 17,
     "metadata": {},
     "output_type": "execute_result"
    }
   ],
   "source": [
    "# tips! 데이터 전처리 시, 임시변수(temp) 적극 활용 권고\n",
    "temp_ = spl_jum[1].strip()\n",
    "temp_"
   ]
  },
  {
   "cell_type": "markdown",
   "id": "685f96b6-a2db-42b5-8042-9422e5205b39",
   "metadata": {},
   "source": [
    "리스트 자료형"
   ]
  },
  {
   "cell_type": "code",
   "execution_count": 18,
   "id": "831461eb-f7ee-4d25-bdee-73108b01a952",
   "metadata": {},
   "outputs": [
    {
     "name": "stdout",
     "output_type": "stream",
     "text": [
      "[1, 2, 3, 4, 5, 1, 2, 3, 4, 5, 'a', 'b', 'c']\n",
      "13\n"
     ]
    }
   ],
   "source": [
    "# 기본 연산\n",
    "\n",
    "a = [1,2,3,4,5]\n",
    "b = ['a', 'b', 'c']\n",
    "\n",
    "c = a*2+b\n",
    "d = len(c)\n",
    "\n",
    "print(c)\n",
    "print(d)"
   ]
  },
  {
   "cell_type": "code",
   "execution_count": 19,
   "id": "3b8597cb-7fc4-41bd-936c-b714cbeaf26f",
   "metadata": {},
   "outputs": [
    {
     "name": "stdout",
     "output_type": "stream",
     "text": [
      "[1, 2, 3, 4, 5]\n",
      "3\n",
      "[5, 4, 3, 2, 1]\n",
      "[5, 2]\n",
      "[5]\n",
      "[5, 3, 1]\n"
     ]
    }
   ],
   "source": [
    "# 리스트 인덱싱과 슬라이싱\n",
    "\n",
    "a = [1,2,3,4,5]\n",
    "\n",
    "print(a)\n",
    "print(a[-3]) # indexing\n",
    "print(a[::-1]) # slicing 역순으로 -1칸씩 이동\n",
    "print(a[-1::-3]) # 역순으로 끝 자리 수부터 -3칸씩 이동\n",
    "print(a[-1::3])\n",
    "print(a[::-2])"
   ]
  },
  {
   "cell_type": "code",
   "execution_count": 20,
   "id": "fd8bcf38-f83a-4baa-8162-5ba11754edf5",
   "metadata": {},
   "outputs": [
    {
     "name": "stdout",
     "output_type": "stream",
     "text": [
      "[1, 2, 3, ['활용도가 높아서', '가독성이 좋아요', ' 쉬워서']]\n",
      "['활용도가 높아서', '가독성이 좋아요', ' 쉬워서']\n",
      "활용도가 높아서\n",
      "['가독성이 좋아요', ' 쉬워서']\n",
      "['활용도가 높아서']\n"
     ]
    }
   ],
   "source": [
    "# 중첩 리스트 - 인덱싱과 슬라이싱\n",
    "\n",
    "shp_ = [1,2,3,[\"활용도가 높아서\",\"가독성이 좋아요\", \" 쉬워서\" ]]\n",
    "\n",
    "print(shp_)\n",
    "print(shp_[3])\n",
    "print(shp_[3][0])\n",
    "print(shp_[3][1:])\n",
    "print(shp_[3][:1])"
   ]
  },
  {
   "cell_type": "code",
   "execution_count": 21,
   "id": "0afbe654-8a42-434d-a63d-40d4fa777fa0",
   "metadata": {},
   "outputs": [
    {
     "name": "stdout",
     "output_type": "stream",
     "text": [
      "[1, 2, 10, 4, 5]\n"
     ]
    }
   ],
   "source": [
    "# 리스트 요소의 수정과 삭제\n",
    "\n",
    "a = [1,2,3,4,5]\n",
    "a[2] = 10\n",
    "\n",
    "print(a)"
   ]
  },
  {
   "cell_type": "code",
   "execution_count": 22,
   "id": "5c45f210-5220-46ab-81ee-57415e13525b",
   "metadata": {},
   "outputs": [],
   "source": [
    "del a[4]"
   ]
  },
  {
   "cell_type": "code",
   "execution_count": 23,
   "id": "bf29bd16-ace4-4a69-b385-75fda1eba887",
   "metadata": {},
   "outputs": [
    {
     "name": "stdout",
     "output_type": "stream",
     "text": [
      "[1, 2, 10, 4]\n"
     ]
    }
   ],
   "source": [
    "print(a)"
   ]
  },
  {
   "cell_type": "code",
   "execution_count": 24,
   "id": "344bf0b4-7cce-453a-b470-03bfd0a27930",
   "metadata": {},
   "outputs": [
    {
     "name": "stdout",
     "output_type": "stream",
     "text": [
      "[1, 2, 10, 4, 10]\n"
     ]
    }
   ],
   "source": [
    "# 리스트의 요소 추가\n",
    "a.append(10)\n",
    "print(a)"
   ]
  },
  {
   "cell_type": "code",
   "execution_count": 25,
   "id": "ec25743b-7216-4035-89e8-a51207fdb6d2",
   "metadata": {},
   "outputs": [
    {
     "name": "stdout",
     "output_type": "stream",
     "text": [
      "[1, 2, 4, 10, 10]\n"
     ]
    }
   ],
   "source": [
    "# 리스트 정렬(sort)\n",
    "a.sort()\n",
    "print(a)"
   ]
  },
  {
   "cell_type": "code",
   "execution_count": 26,
   "id": "6acefc90-37b6-4129-a464-2a40d3b1b287",
   "metadata": {},
   "outputs": [
    {
     "name": "stdout",
     "output_type": "stream",
     "text": [
      "[1, 2, 4, 10]\n"
     ]
    }
   ],
   "source": [
    "# 리스트 요소 제거\n",
    "a.remove(10)\n",
    "print(a)"
   ]
  },
  {
   "cell_type": "code",
   "execution_count": 27,
   "id": "63aff912-dd6b-46de-b89e-e0f9038ef1f7",
   "metadata": {},
   "outputs": [
    {
     "name": "stdout",
     "output_type": "stream",
     "text": [
      "[1, 2, 4]\n"
     ]
    }
   ],
   "source": [
    "# 리스트 요소 추출 (뽑기)\n",
    "a.pop(-1)  # index로 접근\n",
    "print(a)"
   ]
  },
  {
   "cell_type": "code",
   "execution_count": 28,
   "id": "0bd033d1-0e06-4d77-8106-8975071a3055",
   "metadata": {},
   "outputs": [
    {
     "name": "stdout",
     "output_type": "stream",
     "text": [
      "[1, 2]\n"
     ]
    }
   ],
   "source": [
    "a.pop()\n",
    "print(a)"
   ]
  },
  {
   "cell_type": "code",
   "execution_count": 29,
   "id": "9cc1168e-8822-41d2-92c4-66c1ef92e76c",
   "metadata": {},
   "outputs": [
    {
     "name": "stdout",
     "output_type": "stream",
     "text": [
      "[1, 10, 2]\n"
     ]
    }
   ],
   "source": [
    "# 리스트 요소 삽입\n",
    "a.insert(1,10)\n",
    "print(a)"
   ]
  },
  {
   "cell_type": "code",
   "execution_count": 30,
   "id": "52a3cd25-3fb0-4031-8cdb-f1fd9c716c81",
   "metadata": {},
   "outputs": [
    {
     "name": "stdout",
     "output_type": "stream",
     "text": [
      "[1, 10, 2, 4]\n"
     ]
    }
   ],
   "source": [
    "a.append(4)\n",
    "print(a)"
   ]
  },
  {
   "cell_type": "code",
   "execution_count": 31,
   "id": "5706ba59-ac8b-45f3-91b3-57465dcb5192",
   "metadata": {},
   "outputs": [
    {
     "name": "stdout",
     "output_type": "stream",
     "text": [
      "[1, 10, 2, 4]\n",
      "1\n"
     ]
    }
   ],
   "source": [
    "# 리스트 요소 개수 세기\n",
    "b = a.count(4)\n",
    "print(a)\n",
    "print(b)"
   ]
  },
  {
   "cell_type": "code",
   "execution_count": 32,
   "id": "6b970c89-364a-449d-b306-5f61a7c858f5",
   "metadata": {},
   "outputs": [
    {
     "name": "stdout",
     "output_type": "stream",
     "text": [
      "[1, 10, 2, 4]\n",
      "1\n",
      "0\n"
     ]
    }
   ],
   "source": [
    "# 리스트의 위치 반환\n",
    "\n",
    "print(a)\n",
    "\n",
    "b = a.index(10)\n",
    "c = a.index(1)\n",
    "\n",
    "print(b)\n",
    "print(c)"
   ]
  },
  {
   "cell_type": "markdown",
   "id": "10c4b858-5a9b-4be7-9a3a-6ad74cf0699c",
   "metadata": {},
   "source": [
    "튜플"
   ]
  },
  {
   "cell_type": "code",
   "execution_count": 33,
   "id": "216eea2a-1848-480d-a7d7-6cb2bd4cc652",
   "metadata": {},
   "outputs": [
    {
     "name": "stdout",
     "output_type": "stream",
     "text": [
      "(1, 2, 3, 4, 5, 1, 2, 3, 4, 5, 'a', 'b', 'c')\n",
      "13\n"
     ]
    }
   ],
   "source": [
    "a = (1,2,3,4,5)\n",
    "b = ('a','b','c')\n",
    "\n",
    "c = a*2 + b\n",
    "d = len(c)\n",
    "\n",
    "print(c)\n",
    "print(d)"
   ]
  },
  {
   "cell_type": "code",
   "execution_count": 34,
   "id": "d0ea3d5a-eccf-4f82-9aa1-71a2018fcf31",
   "metadata": {},
   "outputs": [
    {
     "name": "stdout",
     "output_type": "stream",
     "text": [
      "1\n",
      "('a', 'b', 'c')\n"
     ]
    }
   ],
   "source": [
    "# 튜플 인덱싱과 슬라이싱\n",
    "# 순서가 있기 때문에 \n",
    "\n",
    "print(c[0])\n",
    "print(c[-3:])"
   ]
  },
  {
   "cell_type": "markdown",
   "id": "60f3e184-4088-42b5-8ec9-caf473cd4276",
   "metadata": {},
   "source": [
    "딕셔너리"
   ]
  },
  {
   "cell_type": "code",
   "execution_count": 35,
   "id": "f6e8f1c6-2cf9-4325-8851-0b57a49d3531",
   "metadata": {},
   "outputs": [
    {
     "name": "stdout",
     "output_type": "stream",
     "text": [
      "{'name': 'hyun', 'age': 30, 'birth': [7, 8]}\n",
      "hyun\n",
      "[7, 8]\n"
     ]
    }
   ],
   "source": [
    "a = {'name':'hyun','age':30,'birth':[7,8]}\n",
    "\n",
    "print(a)\n",
    "\n",
    "# key로 접근\n",
    "print(a['name'])\n",
    "print(a['birth'])"
   ]
  },
  {
   "cell_type": "markdown",
   "id": "34edc388-b551-485a-8e6f-e00b5b99adeb",
   "metadata": {},
   "source": [
    "딕셔너리"
   ]
  },
  {
   "cell_type": "code",
   "execution_count": 36,
   "id": "50165cf1-a2d2-40d8-9fbf-00898e0ee693",
   "metadata": {},
   "outputs": [
    {
     "name": "stdout",
     "output_type": "stream",
     "text": [
      "{'name': 'hyun'}\n",
      "{'name': 'hyun', 'age': 27, 'house': 'apt', 'contact': '010-1234-5678'}\n",
      "{'name': 'hyun', 'age': 27, 'house': 'apt'}\n"
     ]
    }
   ],
   "source": [
    "# 딕셔너리 key - value 추가와 삭제\n",
    "\n",
    "a = {'name':'hyun'}\n",
    "\n",
    "print(a)\n",
    "\n",
    "a['age'] = 27\n",
    "a['house'] = 'apt'\n",
    "a['contact'] = '010-1234-5678'\n",
    "\n",
    "print(a)\n",
    "\n",
    "del a['contact']\n",
    "\n",
    "print(a)"
   ]
  },
  {
   "cell_type": "code",
   "execution_count": 37,
   "id": "efaf2497-a5c0-440b-8d47-816d1de60347",
   "metadata": {},
   "outputs": [
    {
     "name": "stdout",
     "output_type": "stream",
     "text": [
      "{'name': 'hyun'}\n"
     ]
    }
   ],
   "source": [
    "# 딕셔너리 key 중복\n",
    "a = {'name':'hyunwoo','name':'hyun'}\n",
    "\n",
    "print(a)"
   ]
  },
  {
   "cell_type": "code",
   "execution_count": 38,
   "id": "c2882ebd-c47b-44c1-86be-cbc856a5743b",
   "metadata": {},
   "outputs": [
    {
     "data": {
      "text/plain": [
       "['name', 'age', 'house', 'contact']"
      ]
     },
     "execution_count": 38,
     "metadata": {},
     "output_type": "execute_result"
    }
   ],
   "source": [
    "# 딕셔너리 key 리스트 생성\n",
    "\n",
    "여친 = {'name': 'hyun', 'age': 20, 'house': 'apt', 'contact': '010-1234-5678'}\n",
    "여친_정보 = 여친.keys()\n",
    "list(여친_정보)"
   ]
  },
  {
   "cell_type": "code",
   "execution_count": 39,
   "id": "352cb2e3-c19c-4835-b9a5-d48caeb90eaa",
   "metadata": {},
   "outputs": [
    {
     "data": {
      "text/plain": [
       "['hyun', 20, 'apt', '010-1234-5678']"
      ]
     },
     "execution_count": 39,
     "metadata": {},
     "output_type": "execute_result"
    }
   ],
   "source": [
    "# 딕셔너리 value 리스트 생성\n",
    "\n",
    "list(여친.values())"
   ]
  },
  {
   "cell_type": "code",
   "execution_count": 40,
   "id": "955f4b5d-931a-45f7-8c89-f2c454a1ed95",
   "metadata": {},
   "outputs": [
    {
     "data": {
      "text/plain": [
       "[('name', 'hyun'), ('age', 20), ('house', 'apt'), ('contact', '010-1234-5678')]"
      ]
     },
     "execution_count": 40,
     "metadata": {},
     "output_type": "execute_result"
    }
   ],
   "source": [
    "# 딕셔너리 k:v 리스트 만들기\n",
    "\n",
    "여친.items()\n",
    "list(여친.items())"
   ]
  },
  {
   "cell_type": "code",
   "execution_count": 41,
   "id": "1ed98f78-abec-4bd0-a31d-0ce27544805b",
   "metadata": {},
   "outputs": [
    {
     "name": "stdout",
     "output_type": "stream",
     "text": [
      "hyun\n",
      "hyun\n",
      "None\n",
      "No data\n"
     ]
    }
   ],
   "source": [
    "# 딕셔너리 key 로 값 호출하기\n",
    "\n",
    "b = 여친.get('name')\n",
    "c = 여친['name']\n",
    "d = 여친.get('birth') # 없는 key 입력 >> None 반환\n",
    "# e = 여친 ['birth'] # key 에러 발생\n",
    "f = 여친.get('birth', 'No data')\n",
    "\n",
    "print(b)\n",
    "print(c)\n",
    "print(d)\n",
    "# print(e)\n",
    "print(f)"
   ]
  },
  {
   "cell_type": "markdown",
   "id": "8dbb097a-77e5-429a-8039-40db0ff8f7da",
   "metadata": {},
   "source": [
    "집합 자료형 set()"
   ]
  },
  {
   "cell_type": "code",
   "execution_count": 42,
   "id": "27118d5e-280f-4a2a-bc57-bf19866289be",
   "metadata": {},
   "outputs": [
    {
     "name": "stdout",
     "output_type": "stream",
     "text": [
      "{1, 2, 3, 4}\n",
      "{'t', 'a', 'i', 'l', 'c', 'g', 'm', 'b', 's', 'd', 'p', ' ', 'u'}\n"
     ]
    }
   ],
   "source": [
    "a = {1,2,3,4,2,1,1}\n",
    "b = set(a) #중복 제거\n",
    "c = set('multi campus bigdata class')\n",
    "\n",
    "print(b)\n",
    "print(c)"
   ]
  },
  {
   "cell_type": "code",
   "execution_count": 43,
   "id": "0d3024fa-90ff-4e42-b201-264227340e27",
   "metadata": {},
   "outputs": [
    {
     "name": "stdout",
     "output_type": "stream",
     "text": [
      "{1, 2, 3}\n",
      "[1, 2, 3]\n",
      "(1, 2, 3)\n"
     ]
    }
   ],
   "source": [
    "# 집합 자료형 변환\n",
    "\n",
    "a = set([1,2,3])\n",
    "b = list(a)\n",
    "c = tuple(b) # 못바꾸게 바꾸자!\n",
    "\n",
    "print(a)\n",
    "print(b)\n",
    "print(c)"
   ]
  },
  {
   "cell_type": "code",
   "execution_count": 44,
   "id": "16e4c321-6411-4c11-8d3f-f76564fb8403",
   "metadata": {},
   "outputs": [
    {
     "name": "stdout",
     "output_type": "stream",
     "text": [
      "3\n",
      "(1, 2)\n"
     ]
    }
   ],
   "source": [
    "# 인덱싱, 슬라이싱 되나?\n",
    "\n",
    "# print(a[2] )\n",
    "# type error 발생 >> 왜? set는 순서가 없으니까\n",
    "\n",
    "print(b[-1])\n",
    "print(c[:2])"
   ]
  },
  {
   "cell_type": "code",
   "execution_count": 45,
   "id": "b79ffd4c-9afd-4cbd-98d6-fd436fd3722c",
   "metadata": {},
   "outputs": [
    {
     "name": "stdout",
     "output_type": "stream",
     "text": [
      "{3, 4, 5}\n",
      "{3, 4, 5}\n",
      "{3, 4, 5, 6, 7}\n"
     ]
    }
   ],
   "source": [
    "# 집합 자료형 교집합, 합집합, 차집합\n",
    "\n",
    "a = set([1,2,3,4,5])\n",
    "b = set([3,4,5,6,7])\n",
    "\n",
    "c = a & b  # 교집합 (and)\n",
    "d = a.intersection(b) # 교집합\n",
    "\n",
    "e = a and b # 교집합이 아님(집합에서 사용 안함)\n",
    "\n",
    "print(c); print(d) ; print(e)\n",
    "\n",
    "# 왜 e를 print 하면 틀리게 나올까?\n",
    "# 'and' 연산자는 논리 연산에서 사용\n",
    "# 여기서는 a와 b 는 값이 있음 : True \n",
    "# a 가 거짓(False) 면 a 반환\n",
    "# a 기 참(True)면 b 반환"
   ]
  },
  {
   "cell_type": "code",
   "execution_count": 46,
   "id": "dc773bf2-bed6-4515-ba73-7f97bcc2cd60",
   "metadata": {},
   "outputs": [
    {
     "name": "stdout",
     "output_type": "stream",
     "text": [
      "{1, 2, 3, 4, 5, 6, 7}\n",
      "{1, 2, 3, 4, 5, 6, 7}\n",
      "{1, 2, 3, 4, 5}\n"
     ]
    }
   ],
   "source": [
    "# 집합 자료형 합집합\n",
    "\n",
    "a = set([1,2,3,4,5])\n",
    "b = set([3,4,5,6,7])\n",
    "\n",
    "c = a | b          # 합집합\n",
    "d = a.union(b)     # 합집합\n",
    "\n",
    "e = a or b # 논리연산자라 집합에 사용 못함.\n",
    "\n",
    "print(c)\n",
    "print(d)\n",
    "print(e)"
   ]
  },
  {
   "cell_type": "code",
   "execution_count": 47,
   "id": "27520267-aed6-4575-a9d5-01716f8b4998",
   "metadata": {},
   "outputs": [
    {
     "name": "stdout",
     "output_type": "stream",
     "text": [
      "{1, 2}\n",
      "{1, 2}\n"
     ]
    }
   ],
   "source": [
    "# 집합 자료형 차집합\n",
    "\n",
    "a = set([1,2,3,4,5])\n",
    "b = set([3,4,5,6,7])\n",
    "\n",
    "c = a-b\n",
    "d = a.difference(b)  # 차집합\n",
    "\n",
    "print(c)\n",
    "print(d)"
   ]
  },
  {
   "cell_type": "markdown",
   "id": "777e0d21-81f9-4639-825a-01a54100d6b2",
   "metadata": {},
   "source": [
    "논리 자료형"
   ]
  },
  {
   "cell_type": "code",
   "execution_count": 48,
   "id": "0728fd73-7582-4e70-b632-c7909a18eb76",
   "metadata": {},
   "outputs": [
    {
     "name": "stdout",
     "output_type": "stream",
     "text": [
      "True\n",
      "<class 'bool'>\n",
      "False\n",
      "0\n",
      "<class 'int'>\n",
      "1\n",
      "<class 'int'>\n"
     ]
    }
   ],
   "source": [
    "# 논리 자료형 특징\n",
    "\n",
    "a = True\n",
    "b = False\n",
    "\n",
    "print(a)\n",
    "print(type(a))\n",
    "print(b)\n",
    "print(a*b)\n",
    "print(type(a*b))\n",
    "print(a+b)\n",
    "print(type(a+b))"
   ]
  },
  {
   "cell_type": "markdown",
   "id": "61c8fcc5-4d29-4b35-8a13-4ecf9f943825",
   "metadata": {},
   "source": [
    "파이썬 제어문\n",
    "\n",
    "- 조건문(if)\n",
    "- 반복문(for,while)"
   ]
  },
  {
   "cell_type": "markdown",
   "id": "7e7873d5-a3d4-4bcb-9c07-d9991b3be286",
   "metadata": {},
   "source": [
    "조건문 if"
   ]
  },
  {
   "cell_type": "code",
   "execution_count": 49,
   "id": "983ff616-07cc-4f7e-a1da-bffd15960f15",
   "metadata": {},
   "outputs": [
    {
     "name": "stdout",
     "output_type": "stream",
     "text": [
      "진짜야\n"
     ]
    }
   ],
   "source": [
    "# 조건문 if 기본 구조\n",
    "\n",
    "a = True\n",
    "\n",
    "if a:\n",
    "    print(\"진짜야\")\n",
    "else:\n",
    "    print(\"가짜야\")\n"
   ]
  },
  {
   "cell_type": "code",
   "execution_count": 50,
   "id": "03789aae-7267-44c3-9b52-ba3caf803875",
   "metadata": {},
   "outputs": [
    {
     "name": "stdout",
     "output_type": "stream",
     "text": [
      "x가 y보다 작거나 같다,\n"
     ]
    }
   ],
   "source": [
    "# 조건문 비교 연산자\n",
    "\n",
    "x = 3\n",
    "y = 7\n",
    "\n",
    "if x <= y:\n",
    "    print('x가 y보다 작거나 같다,')\n",
    "else:\n",
    "    print('x가 y보다 크다')"
   ]
  },
  {
   "cell_type": "code",
   "execution_count": 51,
   "id": "1df71047-780c-4aec-b6c3-2dbb3c59bfdc",
   "metadata": {},
   "outputs": [
    {
     "name": "stdout",
     "output_type": "stream",
     "text": [
      "x가 y보다 작거나 같다\n"
     ]
    }
   ],
   "source": [
    "# 조건문 and,or,not 연산자\n",
    "\n",
    "x = 3\n",
    "y = 7\n",
    "\n",
    "if (x == y) or (x < y):\n",
    "    print('x가 y보다 작거나 같다')\n",
    "else:\n",
    "    print('x가 y보다 크다')"
   ]
  },
  {
   "cell_type": "code",
   "execution_count": 52,
   "id": "0249f878-17a7-4420-a2d9-72d38a236dc4",
   "metadata": {},
   "outputs": [
    {
     "name": "stdout",
     "output_type": "stream",
     "text": [
      "데이터 존재\n"
     ]
    }
   ],
   "source": [
    "# 조건문 in,not in 연산자\n",
    "\n",
    "x = 3\n",
    "y = [1,2,3,4,5]\n",
    "\n",
    "if x in y:\n",
    "    print('데이터 존재')\n",
    "else:\n",
    "    print('데이터 부재')"
   ]
  },
  {
   "cell_type": "code",
   "execution_count": 53,
   "id": "038e2b26-415d-4d99-8030-8e116011b712",
   "metadata": {},
   "outputs": [
    {
     "name": "stdout",
     "output_type": "stream",
     "text": [
      "x는 y보다 작다\n"
     ]
    }
   ],
   "source": [
    "# elif 활용, 조건문 기본 구조\n",
    "\n",
    "x = 3\n",
    "y = 7\n",
    "\n",
    "if x == y:\n",
    "    print('x와 y는 같다')\n",
    "elif x < y:\n",
    "    print('x는 y보다 작다')\n",
    "else:\n",
    "    print('x가 y보다 크다')"
   ]
  },
  {
   "cell_type": "markdown",
   "id": "81619a90-09d0-444d-bf82-de25b7eaaf9f",
   "metadata": {},
   "source": [
    "반복문\n",
    "\n",
    "- while"
   ]
  },
  {
   "cell_type": "code",
   "execution_count": 54,
   "id": "b95d0108-e98a-42bd-a74d-4a8decfcf69e",
   "metadata": {},
   "outputs": [
    {
     "name": "stdout",
     "output_type": "stream",
     "text": [
      "a 값은 0 입니다\n",
      "a 값은 1 입니다\n",
      "a 값은 2 입니다\n",
      "a 값은 3 입니다\n",
      "a 값은 4 입니다\n",
      "종료합니다\n"
     ]
    }
   ],
   "source": [
    "# while 문 기본 구조\n",
    "\n",
    "a = 0\n",
    "\n",
    "while a < 5:\n",
    "    print('a 값은 %s 입니다'%a)\n",
    "    a = a + 1\n",
    "\n",
    "print(\"종료합니다\")"
   ]
  },
  {
   "cell_type": "code",
   "execution_count": 55,
   "id": "b5302f83-a101-480c-a70f-c7fc7365bf22",
   "metadata": {},
   "outputs": [
    {
     "name": "stdout",
     "output_type": "stream",
     "text": [
      "바구니에서 사과를 꺼냈습니다.\n",
      "바구니에서 바나나를 꺼냈습니다.\n",
      "바구니에서 딸기를 꺼냈습니다.\n",
      "바구니에 더 이상 아무 것도 없네요.\n"
     ]
    }
   ],
   "source": [
    "# while 문 조건 변경\n",
    "\n",
    "a = 0\n",
    "b = ['사과','바나나','딸기']\n",
    "\n",
    "while a < len(b):\n",
    "    print(\"바구니에서 %s를 꺼냈습니다.\"%b[a])\n",
    "    a += 1\n",
    "\n",
    "print(\"바구니에 더 이상 아무 것도 없네요.\")"
   ]
  },
  {
   "cell_type": "code",
   "execution_count": 56,
   "id": "7529d98a-5b89-4e68-bf24-d24dabec4d96",
   "metadata": {},
   "outputs": [
    {
     "name": "stdout",
     "output_type": "stream",
     "text": [
      "a 값은 5 입니다.\n",
      "a 값은 4 입니다.\n",
      "a 값은 3 입니다.\n",
      "종료합니다\n"
     ]
    }
   ],
   "source": [
    "# while 문 break 활용\n",
    "\n",
    "a = 5\n",
    "\n",
    "while a > 0:\n",
    "    print(\"a 값은 %s 입니다.\"%a)\n",
    "    a = a - 1 # a -= 1\n",
    "\n",
    "    if a == 2:  # 2이면,\n",
    "        break # 정지조건\n",
    "\n",
    "print('종료합니다')"
   ]
  },
  {
   "cell_type": "code",
   "execution_count": 57,
   "id": "fce2426b-526d-4a22-a74b-a85903f2decd",
   "metadata": {},
   "outputs": [
    {
     "name": "stdout",
     "output_type": "stream",
     "text": [
      "1\n",
      "3\n",
      "5\n",
      "7\n",
      "9\n"
     ]
    }
   ],
   "source": [
    "# while 문 continue 활용\n",
    "\n",
    "a = 0\n",
    "\n",
    "while a < 10:\n",
    "    a = a+1\n",
    "    if a%2 ==0: # a가 2의 배수면\n",
    "        continue\n",
    "    print(a)"
   ]
  },
  {
   "cell_type": "markdown",
   "id": "052885e7-614c-4660-8c85-0f4083ab1292",
   "metadata": {},
   "source": [
    "for 문"
   ]
  },
  {
   "cell_type": "code",
   "execution_count": 58,
   "id": "eb5865b2-839c-40fe-871c-b05f8243e268",
   "metadata": {},
   "outputs": [
    {
     "name": "stdout",
     "output_type": "stream",
     "text": [
      "사과 바나나 딸기 "
     ]
    }
   ],
   "source": [
    "# 기본 구조\n",
    "a = [\"사과\",\"바나나\",\"딸기\"]\n",
    "\n",
    "\n",
    "# for i in a = [\"사과\",\"바나나\",\"딸기\"]\n",
    "for i in a:\n",
    "    # print(i)\n",
    "    print(i,end=\" \")"
   ]
  },
  {
   "cell_type": "code",
   "execution_count": 59,
   "id": "12d56626-e0d7-4f49-b4e5-a07be3c707c8",
   "metadata": {},
   "outputs": [
    {
     "name": "stdout",
     "output_type": "stream",
     "text": [
      "90는(은) 평균보다 크다\n",
      "25는(은) 평균보다 작거나 같다\n",
      "67는(은) 평균보다 크다\n",
      "45는(은) 평균보다 작거나 같다\n",
      "80는(은) 평균보다 크다\n"
     ]
    }
   ],
   "source": [
    "# 조건문(if)문과 for (반복문) 활용 (***)\n",
    "\n",
    "a = [90,25,67,45,80]\n",
    "b = sum(a)/len(a)\n",
    "\n",
    "for i in a:\n",
    "    if i > b:\n",
    "        print(\"%d는(은) 평균보다 크다\"%i)\n",
    "    else:\n",
    "        print(\"%d는(은) 평균보다 작거나 같다\"%i)"
   ]
  },
  {
   "cell_type": "code",
   "execution_count": 60,
   "id": "65aa7551-157e-43c1-9f1e-49e63e5634e5",
   "metadata": {},
   "outputs": [
    {
     "name": "stdout",
     "output_type": "stream",
     "text": [
      "24681012141618 \n",
      "369121518212427 \n",
      "4812162024283236 \n",
      "51015202530354045 \n",
      "61218243036424854 \n",
      "71421283542495663 \n",
      "81624324048566472 \n",
      "91827364554637281 \n"
     ]
    }
   ],
   "source": [
    "# for 문 range 문 활용\n",
    "\n",
    "for i in range(2,10):\n",
    "    for j in range(1,10):\n",
    "        print(i * j , end=\"\")\n",
    "    print(\" \")"
   ]
  },
  {
   "cell_type": "code",
   "execution_count": 61,
   "id": "6851061e-16bc-4f00-87bd-c3e091229c08",
   "metadata": {},
   "outputs": [
    {
     "name": "stdout",
     "output_type": "stream",
     "text": [
      "[40, 30, 20, 10]\n"
     ]
    }
   ],
   "source": [
    "# for 문 list 요소 삽입\n",
    "\n",
    "a = [1,2,3,4]\n",
    "\n",
    "result = []\n",
    "\n",
    "for i in a:\n",
    "    result.insert(0, i *10)\n",
    "    # print(result)\n",
    "\n",
    "print(result)"
   ]
  },
  {
   "cell_type": "markdown",
   "id": "85639993-f8fa-480f-8082-1b0e6771f028",
   "metadata": {},
   "source": [
    "함수"
   ]
  },
  {
   "cell_type": "code",
   "execution_count": 62,
   "id": "15b4ecca-3ce0-4bb8-a91a-f49be04b83ab",
   "metadata": {},
   "outputs": [
    {
     "name": "stdout",
     "output_type": "stream",
     "text": [
      "10\n"
     ]
    }
   ],
   "source": [
    "def add(a,b):\n",
    "    return a + b\n",
    "\n",
    "a = 3\n",
    "b = 7\n",
    "c = add(a,b)\n",
    "\n",
    "print(c)"
   ]
  },
  {
   "cell_type": "code",
   "execution_count": null,
   "id": "4dbfd7f2-4899-44d3-9d67-7b4b69cf3f92",
   "metadata": {},
   "outputs": [],
   "source": []
  }
 ],
 "metadata": {
  "kernelspec": {
   "display_name": "Python 3 (ipykernel)",
   "language": "python",
   "name": "python3"
  },
  "language_info": {
   "codemirror_mode": {
    "name": "ipython",
    "version": 3
   },
   "file_extension": ".py",
   "mimetype": "text/x-python",
   "name": "python",
   "nbconvert_exporter": "python",
   "pygments_lexer": "ipython3",
   "version": "3.11.7"
  }
 },
 "nbformat": 4,
 "nbformat_minor": 5
}
